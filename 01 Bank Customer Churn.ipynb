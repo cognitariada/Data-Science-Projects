{
 "cells": [
  {
   "cell_type": "markdown",
   "id": "545c39e7",
   "metadata": {},
   "source": [
    "##  Turnover Dataset\n",
    "\n",
    "Purpose: build a classifier model to predict customer churn within the next 6 months based on a historical customer behavior data\n",
    "\n",
    "## Data Description:\n",
    "\n",
    "**Features:**\n",
    "- *RowNumber* - The numerical designation of each row.\n",
    "- *CustomerId* - Unique identifier for each customer.\n",
    "- *Surname* - Last name of the customer.\n",
    "- *CreditScore* — The credit score assigned to the customer.\n",
    "- *Geography* — The country of residence of the customer.\n",
    "- *Gender* — The gender of the customer.\n",
    "- *Age* — The age of the customer.\n",
    "- *Tenure* — The number of years the customer has been a client of the bank.\n",
    "- *Balance* — The current balance in the customer's account.\n",
    "- *NumOfProducts* — The number of bank products utilized by the customer.\n",
    "- *HasCrCard* — A binary indicator of whether the customer possesses a credit card.\n",
    "- *IsActiveMember* - A flag indicating the customer's activity status.\n",
    "- *EstimatedSalary* — The estimated salary of the customer.\n",
    "\n",
    "**Target:**\n",
    "- *Exited* — A binary indicator representing whether the client has actually left the bank.\n",
    "\n",
    "\n",
    "\n",
    "\n",
    "The source of the data:  [https://www.kaggle.com/barelydedicated/bank-customer-churn-modeling](https://www.kaggle.com/barelydedicated/bank-customer-churn-modeling)"
   ]
  },
  {
   "cell_type": "markdown",
   "id": "784dd760",
   "metadata": {},
   "source": [
    "## 1. Data Preparation"
   ]
  },
  {
   "cell_type": "markdown",
   "id": "147c6f18",
   "metadata": {},
   "source": [
    "Importing the libraries"
   ]
  },
  {
   "cell_type": "code",
   "execution_count": 1,
   "id": "66fa641e",
   "metadata": {},
   "outputs": [],
   "source": [
    "import pandas as pd\n",
    "pd.set_option('display.max_columns', None) # enabling the display of unlimited number of columns\n",
    "pd.set_option('display.max_rows', None) # enabling the display of unlimited number of rows\n",
    "pd.options.mode.chained_assignment = None\n",
    "\n",
    "from sklearn.tree import DecisionTreeClassifier\n",
    "from sklearn.ensemble import RandomForestClassifier\n",
    "from sklearn.linear_model import LogisticRegression \n",
    "from sklearn.dummy import DummyClassifier\n",
    "\n",
    "from sklearn.model_selection import train_test_split\n",
    "from sklearn.preprocessing import StandardScaler\n",
    "from sklearn.metrics import accuracy_score, f1_score, roc_curve, roc_auc_score, confusion_matrix\n",
    "\n",
    "from sklearn.utils import shuffle\n",
    "\n",
    "from joblib import dump\n",
    "\n",
    "import matplotlib.pyplot as plt\n",
    "import seaborn as sns\n",
    "\n",
    "import numpy as np"
   ]
  },
  {
   "cell_type": "markdown",
   "id": "331e5686",
   "metadata": {},
   "source": [
    "Loading the dataset and checking top 5 rows"
   ]
  },
  {
   "cell_type": "code",
   "execution_count": 2,
   "id": "9e758a79",
   "metadata": {},
   "outputs": [
    {
     "data": {
      "text/html": [
       "<div>\n",
       "<style scoped>\n",
       "    .dataframe tbody tr th:only-of-type {\n",
       "        vertical-align: middle;\n",
       "    }\n",
       "\n",
       "    .dataframe tbody tr th {\n",
       "        vertical-align: top;\n",
       "    }\n",
       "\n",
       "    .dataframe thead th {\n",
       "        text-align: right;\n",
       "    }\n",
       "</style>\n",
       "<table border=\"1\" class=\"dataframe\">\n",
       "  <thead>\n",
       "    <tr style=\"text-align: right;\">\n",
       "      <th></th>\n",
       "      <th>RowNumber</th>\n",
       "      <th>CustomerId</th>\n",
       "      <th>Surname</th>\n",
       "      <th>CreditScore</th>\n",
       "      <th>Geography</th>\n",
       "      <th>Gender</th>\n",
       "      <th>Age</th>\n",
       "      <th>Tenure</th>\n",
       "      <th>Balance</th>\n",
       "      <th>NumOfProducts</th>\n",
       "      <th>HasCrCard</th>\n",
       "      <th>IsActiveMember</th>\n",
       "      <th>EstimatedSalary</th>\n",
       "      <th>Exited</th>\n",
       "    </tr>\n",
       "  </thead>\n",
       "  <tbody>\n",
       "    <tr>\n",
       "      <th>0</th>\n",
       "      <td>1</td>\n",
       "      <td>15634602</td>\n",
       "      <td>Hargrave</td>\n",
       "      <td>619</td>\n",
       "      <td>France</td>\n",
       "      <td>Female</td>\n",
       "      <td>42</td>\n",
       "      <td>2.0</td>\n",
       "      <td>0.00</td>\n",
       "      <td>1</td>\n",
       "      <td>1</td>\n",
       "      <td>1</td>\n",
       "      <td>101348.88</td>\n",
       "      <td>1</td>\n",
       "    </tr>\n",
       "    <tr>\n",
       "      <th>1</th>\n",
       "      <td>2</td>\n",
       "      <td>15647311</td>\n",
       "      <td>Hill</td>\n",
       "      <td>608</td>\n",
       "      <td>Spain</td>\n",
       "      <td>Female</td>\n",
       "      <td>41</td>\n",
       "      <td>1.0</td>\n",
       "      <td>83807.86</td>\n",
       "      <td>1</td>\n",
       "      <td>0</td>\n",
       "      <td>1</td>\n",
       "      <td>112542.58</td>\n",
       "      <td>0</td>\n",
       "    </tr>\n",
       "    <tr>\n",
       "      <th>2</th>\n",
       "      <td>3</td>\n",
       "      <td>15619304</td>\n",
       "      <td>Onio</td>\n",
       "      <td>502</td>\n",
       "      <td>France</td>\n",
       "      <td>Female</td>\n",
       "      <td>42</td>\n",
       "      <td>8.0</td>\n",
       "      <td>159660.80</td>\n",
       "      <td>3</td>\n",
       "      <td>1</td>\n",
       "      <td>0</td>\n",
       "      <td>113931.57</td>\n",
       "      <td>1</td>\n",
       "    </tr>\n",
       "    <tr>\n",
       "      <th>3</th>\n",
       "      <td>4</td>\n",
       "      <td>15701354</td>\n",
       "      <td>Boni</td>\n",
       "      <td>699</td>\n",
       "      <td>France</td>\n",
       "      <td>Female</td>\n",
       "      <td>39</td>\n",
       "      <td>1.0</td>\n",
       "      <td>0.00</td>\n",
       "      <td>2</td>\n",
       "      <td>0</td>\n",
       "      <td>0</td>\n",
       "      <td>93826.63</td>\n",
       "      <td>0</td>\n",
       "    </tr>\n",
       "    <tr>\n",
       "      <th>4</th>\n",
       "      <td>5</td>\n",
       "      <td>15737888</td>\n",
       "      <td>Mitchell</td>\n",
       "      <td>850</td>\n",
       "      <td>Spain</td>\n",
       "      <td>Female</td>\n",
       "      <td>43</td>\n",
       "      <td>2.0</td>\n",
       "      <td>125510.82</td>\n",
       "      <td>1</td>\n",
       "      <td>1</td>\n",
       "      <td>1</td>\n",
       "      <td>79084.10</td>\n",
       "      <td>0</td>\n",
       "    </tr>\n",
       "  </tbody>\n",
       "</table>\n",
       "</div>"
      ],
      "text/plain": [
       "   RowNumber  CustomerId   Surname  CreditScore Geography  Gender  Age  \\\n",
       "0          1    15634602  Hargrave          619    France  Female   42   \n",
       "1          2    15647311      Hill          608     Spain  Female   41   \n",
       "2          3    15619304      Onio          502    France  Female   42   \n",
       "3          4    15701354      Boni          699    France  Female   39   \n",
       "4          5    15737888  Mitchell          850     Spain  Female   43   \n",
       "\n",
       "   Tenure    Balance  NumOfProducts  HasCrCard  IsActiveMember  \\\n",
       "0     2.0       0.00              1          1               1   \n",
       "1     1.0   83807.86              1          0               1   \n",
       "2     8.0  159660.80              3          1               0   \n",
       "3     1.0       0.00              2          0               0   \n",
       "4     2.0  125510.82              1          1               1   \n",
       "\n",
       "   EstimatedSalary  Exited  \n",
       "0        101348.88       1  \n",
       "1        112542.58       0  \n",
       "2        113931.57       1  \n",
       "3         93826.63       0  \n",
       "4         79084.10       0  "
      ]
     },
     "execution_count": 2,
     "metadata": {},
     "output_type": "execute_result"
    }
   ],
   "source": [
    "data = pd.read_csv('Churn.csv')\n",
    "\n",
    "data.head()"
   ]
  },
  {
   "cell_type": "markdown",
   "id": "f3e91c41",
   "metadata": {},
   "source": [
    "## Exploratory Data Analysis"
   ]
  },
  {
   "cell_type": "code",
   "execution_count": 3,
   "id": "f9ac095d",
   "metadata": {},
   "outputs": [
    {
     "name": "stdout",
     "output_type": "stream",
     "text": [
      "<class 'pandas.core.frame.DataFrame'>\n",
      "RangeIndex: 10000 entries, 0 to 9999\n",
      "Data columns (total 14 columns):\n",
      " #   Column           Non-Null Count  Dtype  \n",
      "---  ------           --------------  -----  \n",
      " 0   RowNumber        10000 non-null  int64  \n",
      " 1   CustomerId       10000 non-null  int64  \n",
      " 2   Surname          10000 non-null  object \n",
      " 3   CreditScore      10000 non-null  int64  \n",
      " 4   Geography        10000 non-null  object \n",
      " 5   Gender           10000 non-null  object \n",
      " 6   Age              10000 non-null  int64  \n",
      " 7   Tenure           9091 non-null   float64\n",
      " 8   Balance          10000 non-null  float64\n",
      " 9   NumOfProducts    10000 non-null  int64  \n",
      " 10  HasCrCard        10000 non-null  int64  \n",
      " 11  IsActiveMember   10000 non-null  int64  \n",
      " 12  EstimatedSalary  10000 non-null  float64\n",
      " 13  Exited           10000 non-null  int64  \n",
      "dtypes: float64(3), int64(8), object(3)\n",
      "memory usage: 1.1+ MB\n"
     ]
    }
   ],
   "source": [
    "# general information about the dataset\n",
    "data.info()"
   ]
  },
  {
   "cell_type": "code",
   "execution_count": 4,
   "id": "20aa6fcf",
   "metadata": {},
   "outputs": [
    {
     "data": {
      "text/html": [
       "<div>\n",
       "<style scoped>\n",
       "    .dataframe tbody tr th:only-of-type {\n",
       "        vertical-align: middle;\n",
       "    }\n",
       "\n",
       "    .dataframe tbody tr th {\n",
       "        vertical-align: top;\n",
       "    }\n",
       "\n",
       "    .dataframe thead th {\n",
       "        text-align: right;\n",
       "    }\n",
       "</style>\n",
       "<table border=\"1\" class=\"dataframe\">\n",
       "  <thead>\n",
       "    <tr style=\"text-align: right;\">\n",
       "      <th></th>\n",
       "      <th>RowNumber</th>\n",
       "      <th>CustomerId</th>\n",
       "      <th>CreditScore</th>\n",
       "      <th>Age</th>\n",
       "      <th>Tenure</th>\n",
       "      <th>Balance</th>\n",
       "      <th>NumOfProducts</th>\n",
       "      <th>HasCrCard</th>\n",
       "      <th>IsActiveMember</th>\n",
       "      <th>EstimatedSalary</th>\n",
       "      <th>Exited</th>\n",
       "    </tr>\n",
       "  </thead>\n",
       "  <tbody>\n",
       "    <tr>\n",
       "      <th>count</th>\n",
       "      <td>10000.00000</td>\n",
       "      <td>1.000000e+04</td>\n",
       "      <td>10000.000000</td>\n",
       "      <td>10000.000000</td>\n",
       "      <td>9091.000000</td>\n",
       "      <td>10000.000000</td>\n",
       "      <td>10000.000000</td>\n",
       "      <td>10000.00000</td>\n",
       "      <td>10000.000000</td>\n",
       "      <td>10000.000000</td>\n",
       "      <td>10000.000000</td>\n",
       "    </tr>\n",
       "    <tr>\n",
       "      <th>mean</th>\n",
       "      <td>5000.50000</td>\n",
       "      <td>1.569094e+07</td>\n",
       "      <td>650.528800</td>\n",
       "      <td>38.921800</td>\n",
       "      <td>4.997690</td>\n",
       "      <td>76485.889288</td>\n",
       "      <td>1.530200</td>\n",
       "      <td>0.70550</td>\n",
       "      <td>0.515100</td>\n",
       "      <td>100090.239881</td>\n",
       "      <td>0.203700</td>\n",
       "    </tr>\n",
       "    <tr>\n",
       "      <th>std</th>\n",
       "      <td>2886.89568</td>\n",
       "      <td>7.193619e+04</td>\n",
       "      <td>96.653299</td>\n",
       "      <td>10.487806</td>\n",
       "      <td>2.894723</td>\n",
       "      <td>62397.405202</td>\n",
       "      <td>0.581654</td>\n",
       "      <td>0.45584</td>\n",
       "      <td>0.499797</td>\n",
       "      <td>57510.492818</td>\n",
       "      <td>0.402769</td>\n",
       "    </tr>\n",
       "    <tr>\n",
       "      <th>min</th>\n",
       "      <td>1.00000</td>\n",
       "      <td>1.556570e+07</td>\n",
       "      <td>350.000000</td>\n",
       "      <td>18.000000</td>\n",
       "      <td>0.000000</td>\n",
       "      <td>0.000000</td>\n",
       "      <td>1.000000</td>\n",
       "      <td>0.00000</td>\n",
       "      <td>0.000000</td>\n",
       "      <td>11.580000</td>\n",
       "      <td>0.000000</td>\n",
       "    </tr>\n",
       "    <tr>\n",
       "      <th>25%</th>\n",
       "      <td>2500.75000</td>\n",
       "      <td>1.562853e+07</td>\n",
       "      <td>584.000000</td>\n",
       "      <td>32.000000</td>\n",
       "      <td>2.000000</td>\n",
       "      <td>0.000000</td>\n",
       "      <td>1.000000</td>\n",
       "      <td>0.00000</td>\n",
       "      <td>0.000000</td>\n",
       "      <td>51002.110000</td>\n",
       "      <td>0.000000</td>\n",
       "    </tr>\n",
       "    <tr>\n",
       "      <th>50%</th>\n",
       "      <td>5000.50000</td>\n",
       "      <td>1.569074e+07</td>\n",
       "      <td>652.000000</td>\n",
       "      <td>37.000000</td>\n",
       "      <td>5.000000</td>\n",
       "      <td>97198.540000</td>\n",
       "      <td>1.000000</td>\n",
       "      <td>1.00000</td>\n",
       "      <td>1.000000</td>\n",
       "      <td>100193.915000</td>\n",
       "      <td>0.000000</td>\n",
       "    </tr>\n",
       "    <tr>\n",
       "      <th>75%</th>\n",
       "      <td>7500.25000</td>\n",
       "      <td>1.575323e+07</td>\n",
       "      <td>718.000000</td>\n",
       "      <td>44.000000</td>\n",
       "      <td>7.000000</td>\n",
       "      <td>127644.240000</td>\n",
       "      <td>2.000000</td>\n",
       "      <td>1.00000</td>\n",
       "      <td>1.000000</td>\n",
       "      <td>149388.247500</td>\n",
       "      <td>0.000000</td>\n",
       "    </tr>\n",
       "    <tr>\n",
       "      <th>max</th>\n",
       "      <td>10000.00000</td>\n",
       "      <td>1.581569e+07</td>\n",
       "      <td>850.000000</td>\n",
       "      <td>92.000000</td>\n",
       "      <td>10.000000</td>\n",
       "      <td>250898.090000</td>\n",
       "      <td>4.000000</td>\n",
       "      <td>1.00000</td>\n",
       "      <td>1.000000</td>\n",
       "      <td>199992.480000</td>\n",
       "      <td>1.000000</td>\n",
       "    </tr>\n",
       "  </tbody>\n",
       "</table>\n",
       "</div>"
      ],
      "text/plain": [
       "         RowNumber    CustomerId   CreditScore           Age       Tenure  \\\n",
       "count  10000.00000  1.000000e+04  10000.000000  10000.000000  9091.000000   \n",
       "mean    5000.50000  1.569094e+07    650.528800     38.921800     4.997690   \n",
       "std     2886.89568  7.193619e+04     96.653299     10.487806     2.894723   \n",
       "min        1.00000  1.556570e+07    350.000000     18.000000     0.000000   \n",
       "25%     2500.75000  1.562853e+07    584.000000     32.000000     2.000000   \n",
       "50%     5000.50000  1.569074e+07    652.000000     37.000000     5.000000   \n",
       "75%     7500.25000  1.575323e+07    718.000000     44.000000     7.000000   \n",
       "max    10000.00000  1.581569e+07    850.000000     92.000000    10.000000   \n",
       "\n",
       "             Balance  NumOfProducts    HasCrCard  IsActiveMember  \\\n",
       "count   10000.000000   10000.000000  10000.00000    10000.000000   \n",
       "mean    76485.889288       1.530200      0.70550        0.515100   \n",
       "std     62397.405202       0.581654      0.45584        0.499797   \n",
       "min         0.000000       1.000000      0.00000        0.000000   \n",
       "25%         0.000000       1.000000      0.00000        0.000000   \n",
       "50%     97198.540000       1.000000      1.00000        1.000000   \n",
       "75%    127644.240000       2.000000      1.00000        1.000000   \n",
       "max    250898.090000       4.000000      1.00000        1.000000   \n",
       "\n",
       "       EstimatedSalary        Exited  \n",
       "count     10000.000000  10000.000000  \n",
       "mean     100090.239881      0.203700  \n",
       "std       57510.492818      0.402769  \n",
       "min          11.580000      0.000000  \n",
       "25%       51002.110000      0.000000  \n",
       "50%      100193.915000      0.000000  \n",
       "75%      149388.247500      0.000000  \n",
       "max      199992.480000      1.000000  "
      ]
     },
     "execution_count": 4,
     "metadata": {},
     "output_type": "execute_result"
    }
   ],
   "source": [
    "# descriptive statistics\n",
    "\n",
    "data.describe()"
   ]
  },
  {
   "cell_type": "code",
   "execution_count": 5,
   "id": "390045a4",
   "metadata": {},
   "outputs": [
    {
     "data": {
      "text/plain": [
       "0"
      ]
     },
     "execution_count": 5,
     "metadata": {},
     "output_type": "execute_result"
    }
   ],
   "source": [
    "# check for duplicates\n",
    "\n",
    "data.duplicated().sum()"
   ]
  },
  {
   "cell_type": "code",
   "execution_count": 6,
   "id": "75d8698b",
   "metadata": {},
   "outputs": [
    {
     "data": {
      "text/plain": [
       "0    7963\n",
       "1    2037\n",
       "Name: Exited, dtype: int64"
      ]
     },
     "execution_count": 6,
     "metadata": {},
     "output_type": "execute_result"
    }
   ],
   "source": [
    "# check for class imbalance - the target variable has an uneven distribution\n",
    "data['Exited'].value_counts()"
   ]
  },
  {
   "cell_type": "code",
   "execution_count": 7,
   "id": "ffc938b0",
   "metadata": {},
   "outputs": [
    {
     "data": {
      "image/png": "[encoded data removed]",
      "text/plain": [
       "<Figure size 720x432 with 1 Axes>"
      ]
     },
     "metadata": {
      "needs_background": "light"
     },
     "output_type": "display_data"
    }
   ],
   "source": [
    "import matplotlib.pyplot as plt\n",
    "import seaborn as sns\n",
    "\n",
    "# Set a visually appealing style\n",
    "sns.set(style=\"whitegrid\", palette=\"pastel\")\n",
    "\n",
    "# Create a figure and axis\n",
    "fig, ax = plt.subplots(figsize=(10, 6))\n",
    "\n",
    "# Plot histograms with specified colors\n",
    "sns.histplot(data.loc[data['Exited'] == 0, 'Exited'], color='seagreen', label='Current', ax=ax)\n",
    "sns.histplot(data.loc[data['Exited'] == 1, 'Exited'], color='orangered', label='Exited', ax=ax)\n",
    "\n",
    "# Set x-ticks for better readability\n",
    "ax.set_xticks([0, 1])\n",
    "\n",
    "# Set y-axis limit to 10000\n",
    "ax.set_ylim(0, 10000)\n",
    "\n",
    "# Set labels and title\n",
    "ax.set_xlabel('Client Status')\n",
    "ax.set_ylabel('Number of Clients (thousands)')\n",
    "ax.set_title('Distribution of Current and Exited Clients of the Bank')\n",
    "\n",
    "# Add category names under each bar\n",
    "bar_width = 0.2\n",
    "categories = ['Current (0)', 'Exited (1)']\n",
    "for i, p in enumerate(ax.patches):\n",
    "    height = p.get_height()\n",
    "    ax.text(p.get_x() + p.get_width() / 2, height + 200, categories[i], ha='center')\n",
    "\n",
    "# Format y-tick labels to display \"000\" as \"K\" for thousands\n",
    "ax.get_yaxis().set_major_formatter(plt.FuncFormatter(lambda x, loc: \"{:,}K\".format(int(x/1000))))\n",
    "\n",
    "# Remove top and right spines for aesthetics\n",
    "sns.despine()\n",
    "\n",
    "# Remove numeric x-tick labels\n",
    "ax.set_xticklabels([])\n",
    "\n",
    "# Remove legend\n",
    "ax.legend().set_visible(False)\n",
    "\n",
    "# Show the plot\n",
    "plt.show()\n"
   ]
  },
  {
   "cell_type": "code",
   "execution_count": 8,
   "id": "4ba909fd",
   "metadata": {},
   "outputs": [
    {
     "data": {
      "text/plain": [
       "0.7963"
      ]
     },
     "execution_count": 8,
     "metadata": {},
     "output_type": "execute_result"
    }
   ],
   "source": [
    "# The share of current clients is significantly higher than those that exited and equals to 80% \n",
    "len(data[data['Exited'] == 0]) / len(data)"
   ]
  },
  {
   "cell_type": "markdown",
   "id": "0a485f64",
   "metadata": {},
   "source": [
    "Observations:\n",
    "\n",
    "* The variable Tenure has null data\n",
    "* The variables Tenure, RowNumber, CustomerID and Surname are not relevant and need to be deleted\n",
    "* The categorical variables Geography and Gender should be codified as numerical ones\n",
    "* Target variable has class imbalance (80% - existing customers)\n",
    "* Encoding of numerical values is required\n"
   ]
  },
  {
   "cell_type": "markdown",
   "id": "eb5b8ecd",
   "metadata": {},
   "source": [
    "## Deletion of non-relevant features"
   ]
  },
  {
   "cell_type": "code",
   "execution_count": 9,
   "id": "168d6ba9",
   "metadata": {},
   "outputs": [
    {
     "data": {
      "text/html": [
       "<div>\n",
       "<style scoped>\n",
       "    .dataframe tbody tr th:only-of-type {\n",
       "        vertical-align: middle;\n",
       "    }\n",
       "\n",
       "    .dataframe tbody tr th {\n",
       "        vertical-align: top;\n",
       "    }\n",
       "\n",
       "    .dataframe thead th {\n",
       "        text-align: right;\n",
       "    }\n",
       "</style>\n",
       "<table border=\"1\" class=\"dataframe\">\n",
       "  <thead>\n",
       "    <tr style=\"text-align: right;\">\n",
       "      <th></th>\n",
       "      <th>CreditScore</th>\n",
       "      <th>Geography</th>\n",
       "      <th>Gender</th>\n",
       "      <th>Age</th>\n",
       "      <th>Tenure</th>\n",
       "      <th>Balance</th>\n",
       "      <th>NumOfProducts</th>\n",
       "      <th>HasCrCard</th>\n",
       "      <th>IsActiveMember</th>\n",
       "      <th>EstimatedSalary</th>\n",
       "      <th>Exited</th>\n",
       "    </tr>\n",
       "  </thead>\n",
       "  <tbody>\n",
       "    <tr>\n",
       "      <th>0</th>\n",
       "      <td>619</td>\n",
       "      <td>France</td>\n",
       "      <td>Female</td>\n",
       "      <td>42</td>\n",
       "      <td>2.0</td>\n",
       "      <td>0.00</td>\n",
       "      <td>1</td>\n",
       "      <td>1</td>\n",
       "      <td>1</td>\n",
       "      <td>101348.88</td>\n",
       "      <td>1</td>\n",
       "    </tr>\n",
       "    <tr>\n",
       "      <th>1</th>\n",
       "      <td>608</td>\n",
       "      <td>Spain</td>\n",
       "      <td>Female</td>\n",
       "      <td>41</td>\n",
       "      <td>1.0</td>\n",
       "      <td>83807.86</td>\n",
       "      <td>1</td>\n",
       "      <td>0</td>\n",
       "      <td>1</td>\n",
       "      <td>112542.58</td>\n",
       "      <td>0</td>\n",
       "    </tr>\n",
       "    <tr>\n",
       "      <th>2</th>\n",
       "      <td>502</td>\n",
       "      <td>France</td>\n",
       "      <td>Female</td>\n",
       "      <td>42</td>\n",
       "      <td>8.0</td>\n",
       "      <td>159660.80</td>\n",
       "      <td>3</td>\n",
       "      <td>1</td>\n",
       "      <td>0</td>\n",
       "      <td>113931.57</td>\n",
       "      <td>1</td>\n",
       "    </tr>\n",
       "    <tr>\n",
       "      <th>3</th>\n",
       "      <td>699</td>\n",
       "      <td>France</td>\n",
       "      <td>Female</td>\n",
       "      <td>39</td>\n",
       "      <td>1.0</td>\n",
       "      <td>0.00</td>\n",
       "      <td>2</td>\n",
       "      <td>0</td>\n",
       "      <td>0</td>\n",
       "      <td>93826.63</td>\n",
       "      <td>0</td>\n",
       "    </tr>\n",
       "    <tr>\n",
       "      <th>4</th>\n",
       "      <td>850</td>\n",
       "      <td>Spain</td>\n",
       "      <td>Female</td>\n",
       "      <td>43</td>\n",
       "      <td>2.0</td>\n",
       "      <td>125510.82</td>\n",
       "      <td>1</td>\n",
       "      <td>1</td>\n",
       "      <td>1</td>\n",
       "      <td>79084.10</td>\n",
       "      <td>0</td>\n",
       "    </tr>\n",
       "  </tbody>\n",
       "</table>\n",
       "</div>"
      ],
      "text/plain": [
       "   CreditScore Geography  Gender  Age  Tenure    Balance  NumOfProducts  \\\n",
       "0          619    France  Female   42     2.0       0.00              1   \n",
       "1          608     Spain  Female   41     1.0   83807.86              1   \n",
       "2          502    France  Female   42     8.0  159660.80              3   \n",
       "3          699    France  Female   39     1.0       0.00              2   \n",
       "4          850     Spain  Female   43     2.0  125510.82              1   \n",
       "\n",
       "   HasCrCard  IsActiveMember  EstimatedSalary  Exited  \n",
       "0          1               1        101348.88       1  \n",
       "1          0               1        112542.58       0  \n",
       "2          1               0        113931.57       1  \n",
       "3          0               0         93826.63       0  \n",
       "4          1               1         79084.10       0  "
      ]
     },
     "execution_count": 9,
     "metadata": {},
     "output_type": "execute_result"
    }
   ],
   "source": [
    "data.drop(columns = ['RowNumber', 'CustomerId', 'Surname'], axis=1, inplace=True) \n",
    "data.head()"
   ]
  },
  {
   "cell_type": "markdown",
   "id": "9282eb7f",
   "metadata": {},
   "source": [
    "## Further exploring features with null values"
   ]
  },
  {
   "cell_type": "markdown",
   "id": "71967100",
   "metadata": {},
   "source": [
    "What's the percentage of Null values in Tenure?"
   ]
  },
  {
   "cell_type": "code",
   "execution_count": 10,
   "id": "65917e54",
   "metadata": {},
   "outputs": [
    {
     "name": "stdout",
     "output_type": "stream",
     "text": [
      "9.09 %\n"
     ]
    }
   ],
   "source": [
    "print(data['Tenure'].isna().sum() / len(data) * 100, \"%\")"
   ]
  },
  {
   "cell_type": "markdown",
   "id": "8b6fd8e9",
   "metadata": {},
   "source": [
    "We could fill the data with average or median values, delete the rows containing Null values or directly delete the column Tenure. Since the first two options are not optimal - leading to skewing or loss of large amount data, we should check if Tenure is at all relevant for our purposes"
   ]
  },
  {
   "cell_type": "markdown",
   "id": "e4c5cc23",
   "metadata": {},
   "source": [
    "First, lets check the correlation of this feature with other variables"
   ]
  },
  {
   "cell_type": "code",
   "execution_count": 11,
   "id": "08d73cee",
   "metadata": {},
   "outputs": [
    {
     "data": {
      "text/html": [
       "<style type=\"text/css\">\n",
       "#T_25e09_row0_col0, #T_25e09_row1_col1, #T_25e09_row2_col2, #T_25e09_row3_col3, #T_25e09_row4_col4, #T_25e09_row5_col5, #T_25e09_row6_col6, #T_25e09_row7_col7, #T_25e09_row8_col8 {\n",
       "  background-color: yellow;\n",
       "  background-color: #b40426;\n",
       "  color: #f1f1f1;\n",
       "}\n",
       "#T_25e09_row0_col1, #T_25e09_row2_col0, #T_25e09_row3_col2, #T_25e09_row3_col7, #T_25e09_row4_col7, #T_25e09_row7_col0 {\n",
       "  background-color: #4257c9;\n",
       "  color: #f1f1f1;\n",
       "}\n",
       "#T_25e09_row0_col2 {\n",
       "  background-color: #4358cb;\n",
       "  color: #f1f1f1;\n",
       "}\n",
       "#T_25e09_row0_col3, #T_25e09_row3_col8, #T_25e09_row5_col4 {\n",
       "  background-color: #88abfd;\n",
       "  color: #000000;\n",
       "}\n",
       "#T_25e09_row0_col4, #T_25e09_row2_col4, #T_25e09_row7_col3, #T_25e09_row7_col4 {\n",
       "  background-color: #8badfd;\n",
       "  color: #000000;\n",
       "}\n",
       "#T_25e09_row0_col5, #T_25e09_row0_col7 {\n",
       "  background-color: #3d50c3;\n",
       "  color: #f1f1f1;\n",
       "}\n",
       "#T_25e09_row0_col6 {\n",
       "  background-color: #6c8ff1;\n",
       "  color: #f1f1f1;\n",
       "}\n",
       "#T_25e09_row0_col8, #T_25e09_row6_col1 {\n",
       "  background-color: #5d7ce6;\n",
       "  color: #f1f1f1;\n",
       "}\n",
       "#T_25e09_row1_col0, #T_25e09_row2_col7, #T_25e09_row5_col0, #T_25e09_row7_col1, #T_25e09_row8_col7 {\n",
       "  background-color: #4055c8;\n",
       "  color: #f1f1f1;\n",
       "}\n",
       "#T_25e09_row1_col2, #T_25e09_row2_col1, #T_25e09_row4_col5, #T_25e09_row5_col1 {\n",
       "  background-color: #3f53c6;\n",
       "  color: #f1f1f1;\n",
       "}\n",
       "#T_25e09_row1_col3 {\n",
       "  background-color: #8fb1fe;\n",
       "  color: #000000;\n",
       "}\n",
       "#T_25e09_row1_col4, #T_25e09_row1_col6 {\n",
       "  background-color: #7ea1fa;\n",
       "  color: #f1f1f1;\n",
       "}\n",
       "#T_25e09_row1_col5, #T_25e09_row3_col4, #T_25e09_row3_col5, #T_25e09_row4_col1, #T_25e09_row4_col3, #T_25e09_row5_col7, #T_25e09_row6_col2, #T_25e09_row6_col5, #T_25e09_row6_col7, #T_25e09_row6_col8, #T_25e09_row8_col0, #T_25e09_row8_col6 {\n",
       "  background-color: #3b4cc0;\n",
       "  color: #f1f1f1;\n",
       "}\n",
       "#T_25e09_row1_col7, #T_25e09_row7_col5, #T_25e09_row8_col5 {\n",
       "  background-color: #3c4ec2;\n",
       "  color: #f1f1f1;\n",
       "}\n",
       "#T_25e09_row1_col8 {\n",
       "  background-color: #bad0f8;\n",
       "  color: #000000;\n",
       "}\n",
       "#T_25e09_row2_col3 {\n",
       "  background-color: #85a8fc;\n",
       "  color: #f1f1f1;\n",
       "}\n",
       "#T_25e09_row2_col5, #T_25e09_row4_col2, #T_25e09_row7_col2 {\n",
       "  background-color: #465ecf;\n",
       "  color: #f1f1f1;\n",
       "}\n",
       "#T_25e09_row2_col6 {\n",
       "  background-color: #5b7ae5;\n",
       "  color: #f1f1f1;\n",
       "}\n",
       "#T_25e09_row2_col8 {\n",
       "  background-color: #5f7fe8;\n",
       "  color: #f1f1f1;\n",
       "}\n",
       "#T_25e09_row3_col0 {\n",
       "  background-color: #445acc;\n",
       "  color: #f1f1f1;\n",
       "}\n",
       "#T_25e09_row3_col1, #T_25e09_row5_col2 {\n",
       "  background-color: #4b64d5;\n",
       "  color: #f1f1f1;\n",
       "}\n",
       "#T_25e09_row3_col6, #T_25e09_row5_col8, #T_25e09_row7_col6 {\n",
       "  background-color: #6282ea;\n",
       "  color: #f1f1f1;\n",
       "}\n",
       "#T_25e09_row4_col0 {\n",
       "  background-color: #455cce;\n",
       "  color: #f1f1f1;\n",
       "}\n",
       "#T_25e09_row4_col6 {\n",
       "  background-color: #6788ee;\n",
       "  color: #f1f1f1;\n",
       "}\n",
       "#T_25e09_row4_col8 {\n",
       "  background-color: #5673e0;\n",
       "  color: #f1f1f1;\n",
       "}\n",
       "#T_25e09_row5_col3 {\n",
       "  background-color: #82a6fb;\n",
       "  color: #f1f1f1;\n",
       "}\n",
       "#T_25e09_row5_col6 {\n",
       "  background-color: #6180e9;\n",
       "  color: #f1f1f1;\n",
       "}\n",
       "#T_25e09_row6_col0 {\n",
       "  background-color: #4a63d3;\n",
       "  color: #f1f1f1;\n",
       "}\n",
       "#T_25e09_row6_col3 {\n",
       "  background-color: #84a7fc;\n",
       "  color: #f1f1f1;\n",
       "}\n",
       "#T_25e09_row6_col4 {\n",
       "  background-color: #89acfd;\n",
       "  color: #000000;\n",
       "}\n",
       "#T_25e09_row7_col8 {\n",
       "  background-color: #688aef;\n",
       "  color: #f1f1f1;\n",
       "}\n",
       "#T_25e09_row8_col1 {\n",
       "  background-color: #a1c0ff;\n",
       "  color: #000000;\n",
       "}\n",
       "#T_25e09_row8_col2 {\n",
       "  background-color: #3e51c5;\n",
       "  color: #f1f1f1;\n",
       "}\n",
       "#T_25e09_row8_col3 {\n",
       "  background-color: #a6c4fe;\n",
       "  color: #000000;\n",
       "}\n",
       "#T_25e09_row8_col4 {\n",
       "  background-color: #7a9df8;\n",
       "  color: #f1f1f1;\n",
       "}\n",
       "</style>\n",
       "<table id=\"T_25e09\">\n",
       "  <thead>\n",
       "    <tr>\n",
       "      <th class=\"blank level0\" >&nbsp;</th>\n",
       "      <th id=\"T_25e09_level0_col0\" class=\"col_heading level0 col0\" >CreditScore</th>\n",
       "      <th id=\"T_25e09_level0_col1\" class=\"col_heading level0 col1\" >Age</th>\n",
       "      <th id=\"T_25e09_level0_col2\" class=\"col_heading level0 col2\" >Tenure</th>\n",
       "      <th id=\"T_25e09_level0_col3\" class=\"col_heading level0 col3\" >Balance</th>\n",
       "      <th id=\"T_25e09_level0_col4\" class=\"col_heading level0 col4\" >NumOfProducts</th>\n",
       "      <th id=\"T_25e09_level0_col5\" class=\"col_heading level0 col5\" >HasCrCard</th>\n",
       "      <th id=\"T_25e09_level0_col6\" class=\"col_heading level0 col6\" >IsActiveMember</th>\n",
       "      <th id=\"T_25e09_level0_col7\" class=\"col_heading level0 col7\" >EstimatedSalary</th>\n",
       "      <th id=\"T_25e09_level0_col8\" class=\"col_heading level0 col8\" >Exited</th>\n",
       "    </tr>\n",
       "  </thead>\n",
       "  <tbody>\n",
       "    <tr>\n",
       "      <th id=\"T_25e09_level0_row0\" class=\"row_heading level0 row0\" >CreditScore</th>\n",
       "      <td id=\"T_25e09_row0_col0\" class=\"data row0 col0\" >1.000000</td>\n",
       "      <td id=\"T_25e09_row0_col1\" class=\"data row0 col1\" >-0.003965</td>\n",
       "      <td id=\"T_25e09_row0_col2\" class=\"data row0 col2\" >-0.000062</td>\n",
       "      <td id=\"T_25e09_row0_col3\" class=\"data row0 col3\" >0.006268</td>\n",
       "      <td id=\"T_25e09_row0_col4\" class=\"data row0 col4\" >0.012238</td>\n",
       "      <td id=\"T_25e09_row0_col5\" class=\"data row0 col5\" >-0.005458</td>\n",
       "      <td id=\"T_25e09_row0_col6\" class=\"data row0 col6\" >0.025651</td>\n",
       "      <td id=\"T_25e09_row0_col7\" class=\"data row0 col7\" >-0.001384</td>\n",
       "      <td id=\"T_25e09_row0_col8\" class=\"data row0 col8\" >-0.027094</td>\n",
       "    </tr>\n",
       "    <tr>\n",
       "      <th id=\"T_25e09_level0_row1\" class=\"row_heading level0 row1\" >Age</th>\n",
       "      <td id=\"T_25e09_row1_col0\" class=\"data row1 col0\" >-0.003965</td>\n",
       "      <td id=\"T_25e09_row1_col1\" class=\"data row1 col1\" >1.000000</td>\n",
       "      <td id=\"T_25e09_row1_col2\" class=\"data row1 col2\" >-0.013134</td>\n",
       "      <td id=\"T_25e09_row1_col3\" class=\"data row1 col3\" >0.028308</td>\n",
       "      <td id=\"T_25e09_row1_col4\" class=\"data row1 col4\" >-0.030680</td>\n",
       "      <td id=\"T_25e09_row1_col5\" class=\"data row1 col5\" >-0.011721</td>\n",
       "      <td id=\"T_25e09_row1_col6\" class=\"data row1 col6\" >0.085472</td>\n",
       "      <td id=\"T_25e09_row1_col7\" class=\"data row1 col7\" >-0.007201</td>\n",
       "      <td id=\"T_25e09_row1_col8\" class=\"data row1 col8\" >0.285323</td>\n",
       "    </tr>\n",
       "    <tr>\n",
       "      <th id=\"T_25e09_level0_row2\" class=\"row_heading level0 row2\" >Tenure</th>\n",
       "      <td id=\"T_25e09_row2_col0\" class=\"data row2 col0\" >-0.000062</td>\n",
       "      <td id=\"T_25e09_row2_col1\" class=\"data row2 col1\" >-0.013134</td>\n",
       "      <td id=\"T_25e09_row2_col2\" class=\"data row2 col2\" >1.000000</td>\n",
       "      <td id=\"T_25e09_row2_col3\" class=\"data row2 col3\" >-0.007911</td>\n",
       "      <td id=\"T_25e09_row2_col4\" class=\"data row2 col4\" >0.011979</td>\n",
       "      <td id=\"T_25e09_row2_col5\" class=\"data row2 col5\" >0.027232</td>\n",
       "      <td id=\"T_25e09_row2_col6\" class=\"data row2 col6\" >-0.032178</td>\n",
       "      <td id=\"T_25e09_row2_col7\" class=\"data row2 col7\" >0.010520</td>\n",
       "      <td id=\"T_25e09_row2_col8\" class=\"data row2 col8\" >-0.016761</td>\n",
       "    </tr>\n",
       "    <tr>\n",
       "      <th id=\"T_25e09_level0_row3\" class=\"row_heading level0 row3\" >Balance</th>\n",
       "      <td id=\"T_25e09_row3_col0\" class=\"data row3 col0\" >0.006268</td>\n",
       "      <td id=\"T_25e09_row3_col1\" class=\"data row3 col1\" >0.028308</td>\n",
       "      <td id=\"T_25e09_row3_col2\" class=\"data row3 col2\" >-0.007911</td>\n",
       "      <td id=\"T_25e09_row3_col3\" class=\"data row3 col3\" >1.000000</td>\n",
       "      <td id=\"T_25e09_row3_col4\" class=\"data row3 col4\" >-0.304180</td>\n",
       "      <td id=\"T_25e09_row3_col5\" class=\"data row3 col5\" >-0.014858</td>\n",
       "      <td id=\"T_25e09_row3_col6\" class=\"data row3 col6\" >-0.010084</td>\n",
       "      <td id=\"T_25e09_row3_col7\" class=\"data row3 col7\" >0.012797</td>\n",
       "      <td id=\"T_25e09_row3_col8\" class=\"data row3 col8\" >0.118533</td>\n",
       "    </tr>\n",
       "    <tr>\n",
       "      <th id=\"T_25e09_level0_row4\" class=\"row_heading level0 row4\" >NumOfProducts</th>\n",
       "      <td id=\"T_25e09_row4_col0\" class=\"data row4 col0\" >0.012238</td>\n",
       "      <td id=\"T_25e09_row4_col1\" class=\"data row4 col1\" >-0.030680</td>\n",
       "      <td id=\"T_25e09_row4_col2\" class=\"data row4 col2\" >0.011979</td>\n",
       "      <td id=\"T_25e09_row4_col3\" class=\"data row4 col3\" >-0.304180</td>\n",
       "      <td id=\"T_25e09_row4_col4\" class=\"data row4 col4\" >1.000000</td>\n",
       "      <td id=\"T_25e09_row4_col5\" class=\"data row4 col5\" >0.003183</td>\n",
       "      <td id=\"T_25e09_row4_col6\" class=\"data row4 col6\" >0.009612</td>\n",
       "      <td id=\"T_25e09_row4_col7\" class=\"data row4 col7\" >0.014204</td>\n",
       "      <td id=\"T_25e09_row4_col8\" class=\"data row4 col8\" >-0.047820</td>\n",
       "    </tr>\n",
       "    <tr>\n",
       "      <th id=\"T_25e09_level0_row5\" class=\"row_heading level0 row5\" >HasCrCard</th>\n",
       "      <td id=\"T_25e09_row5_col0\" class=\"data row5 col0\" >-0.005458</td>\n",
       "      <td id=\"T_25e09_row5_col1\" class=\"data row5 col1\" >-0.011721</td>\n",
       "      <td id=\"T_25e09_row5_col2\" class=\"data row5 col2\" >0.027232</td>\n",
       "      <td id=\"T_25e09_row5_col3\" class=\"data row5 col3\" >-0.014858</td>\n",
       "      <td id=\"T_25e09_row5_col4\" class=\"data row5 col4\" >0.003183</td>\n",
       "      <td id=\"T_25e09_row5_col5\" class=\"data row5 col5\" >1.000000</td>\n",
       "      <td id=\"T_25e09_row5_col6\" class=\"data row5 col6\" >-0.011866</td>\n",
       "      <td id=\"T_25e09_row5_col7\" class=\"data row5 col7\" >-0.009933</td>\n",
       "      <td id=\"T_25e09_row5_col8\" class=\"data row5 col8\" >-0.007138</td>\n",
       "    </tr>\n",
       "    <tr>\n",
       "      <th id=\"T_25e09_level0_row6\" class=\"row_heading level0 row6\" >IsActiveMember</th>\n",
       "      <td id=\"T_25e09_row6_col0\" class=\"data row6 col0\" >0.025651</td>\n",
       "      <td id=\"T_25e09_row6_col1\" class=\"data row6 col1\" >0.085472</td>\n",
       "      <td id=\"T_25e09_row6_col2\" class=\"data row6 col2\" >-0.032178</td>\n",
       "      <td id=\"T_25e09_row6_col3\" class=\"data row6 col3\" >-0.010084</td>\n",
       "      <td id=\"T_25e09_row6_col4\" class=\"data row6 col4\" >0.009612</td>\n",
       "      <td id=\"T_25e09_row6_col5\" class=\"data row6 col5\" >-0.011866</td>\n",
       "      <td id=\"T_25e09_row6_col6\" class=\"data row6 col6\" >1.000000</td>\n",
       "      <td id=\"T_25e09_row6_col7\" class=\"data row6 col7\" >-0.011421</td>\n",
       "      <td id=\"T_25e09_row6_col8\" class=\"data row6 col8\" >-0.156128</td>\n",
       "    </tr>\n",
       "    <tr>\n",
       "      <th id=\"T_25e09_level0_row7\" class=\"row_heading level0 row7\" >EstimatedSalary</th>\n",
       "      <td id=\"T_25e09_row7_col0\" class=\"data row7 col0\" >-0.001384</td>\n",
       "      <td id=\"T_25e09_row7_col1\" class=\"data row7 col1\" >-0.007201</td>\n",
       "      <td id=\"T_25e09_row7_col2\" class=\"data row7 col2\" >0.010520</td>\n",
       "      <td id=\"T_25e09_row7_col3\" class=\"data row7 col3\" >0.012797</td>\n",
       "      <td id=\"T_25e09_row7_col4\" class=\"data row7 col4\" >0.014204</td>\n",
       "      <td id=\"T_25e09_row7_col5\" class=\"data row7 col5\" >-0.009933</td>\n",
       "      <td id=\"T_25e09_row7_col6\" class=\"data row7 col6\" >-0.011421</td>\n",
       "      <td id=\"T_25e09_row7_col7\" class=\"data row7 col7\" >1.000000</td>\n",
       "      <td id=\"T_25e09_row7_col8\" class=\"data row7 col8\" >0.012097</td>\n",
       "    </tr>\n",
       "    <tr>\n",
       "      <th id=\"T_25e09_level0_row8\" class=\"row_heading level0 row8\" >Exited</th>\n",
       "      <td id=\"T_25e09_row8_col0\" class=\"data row8 col0\" >-0.027094</td>\n",
       "      <td id=\"T_25e09_row8_col1\" class=\"data row8 col1\" >0.285323</td>\n",
       "      <td id=\"T_25e09_row8_col2\" class=\"data row8 col2\" >-0.016761</td>\n",
       "      <td id=\"T_25e09_row8_col3\" class=\"data row8 col3\" >0.118533</td>\n",
       "      <td id=\"T_25e09_row8_col4\" class=\"data row8 col4\" >-0.047820</td>\n",
       "      <td id=\"T_25e09_row8_col5\" class=\"data row8 col5\" >-0.007138</td>\n",
       "      <td id=\"T_25e09_row8_col6\" class=\"data row8 col6\" >-0.156128</td>\n",
       "      <td id=\"T_25e09_row8_col7\" class=\"data row8 col7\" >0.012097</td>\n",
       "      <td id=\"T_25e09_row8_col8\" class=\"data row8 col8\" >1.000000</td>\n",
       "    </tr>\n",
       "  </tbody>\n",
       "</table>\n"
      ],
      "text/plain": [
       "<pandas.io.formats.style.Styler at 0x213a1a963a0>"
      ]
     },
     "execution_count": 11,
     "metadata": {},
     "output_type": "execute_result"
    }
   ],
   "source": [
    "import pandas as pd\n",
    "\n",
    "# Assuming 'data' is your DataFrame\n",
    "corr = data[['CreditScore',\n",
    "             'Age',\n",
    "             'Tenure',\n",
    "             'Balance',\n",
    "             'NumOfProducts',\n",
    "             'HasCrCard',\n",
    "             'IsActiveMember',\n",
    "             'EstimatedSalary',\n",
    "             'Exited']].corr()\n",
    "\n",
    "# Create a function to apply the background color based on the condition\n",
    "def highlight_high_corr(val):\n",
    "    return 'background-color: yellow' if val > 0.5 else ''\n",
    "\n",
    "# Apply the style with the custom function\n",
    "styled_corr = corr.style.applymap(highlight_high_corr).background_gradient(cmap='coolwarm')\n",
    "\n",
    "# Display the styled correlation matrix\n",
    "styled_corr\n"
   ]
  },
  {
   "cell_type": "markdown",
   "id": "7a8f5eb7",
   "metadata": {},
   "source": [
    "The correlation matrix shows that there is no correlation between Tenure and the Target variable so it is ok to drop it"
   ]
  },
  {
   "cell_type": "code",
   "execution_count": 12,
   "id": "6f7f29e9",
   "metadata": {
    "scrolled": false
   },
   "outputs": [],
   "source": [
    "data.drop(columns = 'Tenure', axis=1, inplace=True)"
   ]
  },
  {
   "cell_type": "markdown",
   "id": "2b14796f",
   "metadata": {},
   "source": [
    "## Transforming categorical variables into numeric with One Hot Encoding"
   ]
  },
  {
   "cell_type": "markdown",
   "id": "21b1821e",
   "metadata": {},
   "source": [
    "We will use One Hot Encoding technique in order to be able to work with all kinds of models, including Logistic Regression"
   ]
  },
  {
   "cell_type": "code",
   "execution_count": 13,
   "id": "663eda9a",
   "metadata": {},
   "outputs": [
    {
     "data": {
      "text/html": [
       "<div>\n",
       "<style scoped>\n",
       "    .dataframe tbody tr th:only-of-type {\n",
       "        vertical-align: middle;\n",
       "    }\n",
       "\n",
       "    .dataframe tbody tr th {\n",
       "        vertical-align: top;\n",
       "    }\n",
       "\n",
       "    .dataframe thead th {\n",
       "        text-align: right;\n",
       "    }\n",
       "</style>\n",
       "<table border=\"1\" class=\"dataframe\">\n",
       "  <thead>\n",
       "    <tr style=\"text-align: right;\">\n",
       "      <th></th>\n",
       "      <th>CreditScore</th>\n",
       "      <th>Age</th>\n",
       "      <th>Balance</th>\n",
       "      <th>NumOfProducts</th>\n",
       "      <th>HasCrCard</th>\n",
       "      <th>IsActiveMember</th>\n",
       "      <th>EstimatedSalary</th>\n",
       "      <th>Exited</th>\n",
       "      <th>Geography_Germany</th>\n",
       "      <th>Geography_Spain</th>\n",
       "      <th>Gender_Male</th>\n",
       "    </tr>\n",
       "  </thead>\n",
       "  <tbody>\n",
       "    <tr>\n",
       "      <th>0</th>\n",
       "      <td>619</td>\n",
       "      <td>42</td>\n",
       "      <td>0.00</td>\n",
       "      <td>1</td>\n",
       "      <td>1</td>\n",
       "      <td>1</td>\n",
       "      <td>101348.88</td>\n",
       "      <td>1</td>\n",
       "      <td>0</td>\n",
       "      <td>0</td>\n",
       "      <td>0</td>\n",
       "    </tr>\n",
       "    <tr>\n",
       "      <th>1</th>\n",
       "      <td>608</td>\n",
       "      <td>41</td>\n",
       "      <td>83807.86</td>\n",
       "      <td>1</td>\n",
       "      <td>0</td>\n",
       "      <td>1</td>\n",
       "      <td>112542.58</td>\n",
       "      <td>0</td>\n",
       "      <td>0</td>\n",
       "      <td>1</td>\n",
       "      <td>0</td>\n",
       "    </tr>\n",
       "    <tr>\n",
       "      <th>2</th>\n",
       "      <td>502</td>\n",
       "      <td>42</td>\n",
       "      <td>159660.80</td>\n",
       "      <td>3</td>\n",
       "      <td>1</td>\n",
       "      <td>0</td>\n",
       "      <td>113931.57</td>\n",
       "      <td>1</td>\n",
       "      <td>0</td>\n",
       "      <td>0</td>\n",
       "      <td>0</td>\n",
       "    </tr>\n",
       "    <tr>\n",
       "      <th>3</th>\n",
       "      <td>699</td>\n",
       "      <td>39</td>\n",
       "      <td>0.00</td>\n",
       "      <td>2</td>\n",
       "      <td>0</td>\n",
       "      <td>0</td>\n",
       "      <td>93826.63</td>\n",
       "      <td>0</td>\n",
       "      <td>0</td>\n",
       "      <td>0</td>\n",
       "      <td>0</td>\n",
       "    </tr>\n",
       "    <tr>\n",
       "      <th>4</th>\n",
       "      <td>850</td>\n",
       "      <td>43</td>\n",
       "      <td>125510.82</td>\n",
       "      <td>1</td>\n",
       "      <td>1</td>\n",
       "      <td>1</td>\n",
       "      <td>79084.10</td>\n",
       "      <td>0</td>\n",
       "      <td>0</td>\n",
       "      <td>1</td>\n",
       "      <td>0</td>\n",
       "    </tr>\n",
       "  </tbody>\n",
       "</table>\n",
       "</div>"
      ],
      "text/plain": [
       "   CreditScore  Age    Balance  NumOfProducts  HasCrCard  IsActiveMember  \\\n",
       "0          619   42       0.00              1          1               1   \n",
       "1          608   41   83807.86              1          0               1   \n",
       "2          502   42  159660.80              3          1               0   \n",
       "3          699   39       0.00              2          0               0   \n",
       "4          850   43  125510.82              1          1               1   \n",
       "\n",
       "   EstimatedSalary  Exited  Geography_Germany  Geography_Spain  Gender_Male  \n",
       "0        101348.88       1                  0                0            0  \n",
       "1        112542.58       0                  0                1            0  \n",
       "2        113931.57       1                  0                0            0  \n",
       "3         93826.63       0                  0                0            0  \n",
       "4         79084.10       0                  0                1            0  "
      ]
     },
     "execution_count": 13,
     "metadata": {},
     "output_type": "execute_result"
    }
   ],
   "source": [
    "data_ohe = pd.get_dummies(data, drop_first=True)\n",
    "data_ohe.head()"
   ]
  },
  {
   "cell_type": "markdown",
   "id": "55f159ba",
   "metadata": {},
   "source": [
    "# Splitting the data into training and testing datasets"
   ]
  },
  {
   "cell_type": "markdown",
   "id": "a4fc1b93",
   "metadata": {},
   "source": [
    "We will split the dataframe into 3 parts: training, validation and testing (sezied 60%-30%-20%, respetively)."
   ]
  },
  {
   "cell_type": "markdown",
   "id": "67b20b8f",
   "metadata": {},
   "source": [
    "First, we will split the dataframe in 2 parts using train_test_split:"
   ]
  },
  {
   "cell_type": "code",
   "execution_count": 14,
   "id": "5208b54e",
   "metadata": {},
   "outputs": [
    {
     "data": {
      "text/plain": [
       "((6000, 10), (4000, 10), (6000,), (4000,))"
      ]
     },
     "execution_count": 14,
     "metadata": {},
     "output_type": "execute_result"
    }
   ],
   "source": [
    "RANDOM_STATE=12345 # we set a fixed random state value so the same random split is generated every time we run the code\n",
    "\n",
    "target = data_ohe['Exited']\n",
    "features = data_ohe.drop('Exited', axis=1)\n",
    "\n",
    "# due to class imbalance in our target variable,we use stratify to ensure that both datasets have similar class distribution\n",
    "\n",
    "features_train, features_valid, target_train, target_valid = train_test_split(\n",
    "    features, target, test_size=0.4, random_state = RANDOM_STATE, stratify=target)\n",
    "\n",
    "# check the split\n",
    "features_train.shape, features_valid.shape, target_train.shape, target_valid.shape"
   ]
  },
  {
   "cell_type": "markdown",
   "id": "5ce2b38e",
   "metadata": {},
   "source": [
    "Second, we divide validation dataset into validation and testing dataset"
   ]
  },
  {
   "cell_type": "code",
   "execution_count": 15,
   "id": "69d2a8ac",
   "metadata": {},
   "outputs": [
    {
     "data": {
      "text/plain": [
       "((2000, 10), (2000, 10), (2000,), (2000,))"
      ]
     },
     "execution_count": 15,
     "metadata": {},
     "output_type": "execute_result"
    }
   ],
   "source": [
    "features_valid, features_test, target_valid, target_test = train_test_split(\n",
    "    features_valid, target_valid, test_size=0.5, random_state=RANDOM_STATE, stratify=target_valid)\n",
    "\n",
    "#проверка корректности разбивки\n",
    "features_valid.shape, features_test.shape, target_valid.shape, target_test.shape"
   ]
  },
  {
   "cell_type": "markdown",
   "id": "16a059c2",
   "metadata": {},
   "source": [
    "## Feature Scaling"
   ]
  },
  {
   "cell_type": "markdown",
   "id": "1d811406",
   "metadata": {},
   "source": [
    "We will normalize the numeric features by using StandardScaler() - so each feature contribution to model training is relatively similar"
   ]
  },
  {
   "cell_type": "code",
   "execution_count": 16,
   "id": "15b6dd7f",
   "metadata": {},
   "outputs": [],
   "source": [
    "# creating a list of numeric features\n",
    "numeric = ['CreditScore', 'Age', 'Balance', 'NumOfProducts', 'EstimatedSalary'] \n",
    "\n",
    "scaler = StandardScaler() # creating object StandardScaler()\n",
    "scaler.fit(features_train[numeric]) # fit it to training data\n",
    "\n",
    "features_train[numeric] = scaler.transform(features_train[numeric]) # save training data\n",
    "features_valid[numeric] = scaler.transform(features_valid[numeric]) # save validation data\n",
    "features_test[numeric] = scaler.transform(features_test[numeric]) # save testing data"
   ]
  },
  {
   "cell_type": "code",
   "execution_count": 17,
   "id": "5046fa21",
   "metadata": {},
   "outputs": [
    {
     "data": {
      "text/html": [
       "<div>\n",
       "<style scoped>\n",
       "    .dataframe tbody tr th:only-of-type {\n",
       "        vertical-align: middle;\n",
       "    }\n",
       "\n",
       "    .dataframe tbody tr th {\n",
       "        vertical-align: top;\n",
       "    }\n",
       "\n",
       "    .dataframe thead th {\n",
       "        text-align: right;\n",
       "    }\n",
       "</style>\n",
       "<table border=\"1\" class=\"dataframe\">\n",
       "  <thead>\n",
       "    <tr style=\"text-align: right;\">\n",
       "      <th></th>\n",
       "      <th>CreditScore</th>\n",
       "      <th>Age</th>\n",
       "      <th>Balance</th>\n",
       "      <th>NumOfProducts</th>\n",
       "      <th>HasCrCard</th>\n",
       "      <th>IsActiveMember</th>\n",
       "      <th>EstimatedSalary</th>\n",
       "      <th>Geography_Germany</th>\n",
       "      <th>Geography_Spain</th>\n",
       "      <th>Gender_Male</th>\n",
       "    </tr>\n",
       "  </thead>\n",
       "  <tbody>\n",
       "    <tr>\n",
       "      <th>2837</th>\n",
       "      <td>-1.040434</td>\n",
       "      <td>0.953312</td>\n",
       "      <td>0.774657</td>\n",
       "      <td>-0.914708</td>\n",
       "      <td>0</td>\n",
       "      <td>1</td>\n",
       "      <td>-0.119110</td>\n",
       "      <td>1</td>\n",
       "      <td>0</td>\n",
       "      <td>0</td>\n",
       "    </tr>\n",
       "    <tr>\n",
       "      <th>9925</th>\n",
       "      <td>0.454006</td>\n",
       "      <td>-0.095244</td>\n",
       "      <td>1.910540</td>\n",
       "      <td>-0.914708</td>\n",
       "      <td>1</td>\n",
       "      <td>1</td>\n",
       "      <td>-0.258658</td>\n",
       "      <td>0</td>\n",
       "      <td>0</td>\n",
       "      <td>0</td>\n",
       "    </tr>\n",
       "    <tr>\n",
       "      <th>8746</th>\n",
       "      <td>0.103585</td>\n",
       "      <td>-0.476537</td>\n",
       "      <td>0.481608</td>\n",
       "      <td>0.820981</td>\n",
       "      <td>0</td>\n",
       "      <td>1</td>\n",
       "      <td>1.422836</td>\n",
       "      <td>0</td>\n",
       "      <td>0</td>\n",
       "      <td>1</td>\n",
       "    </tr>\n",
       "    <tr>\n",
       "      <th>660</th>\n",
       "      <td>-0.184996</td>\n",
       "      <td>0.190726</td>\n",
       "      <td>0.088439</td>\n",
       "      <td>-0.914708</td>\n",
       "      <td>1</td>\n",
       "      <td>1</td>\n",
       "      <td>-1.160427</td>\n",
       "      <td>1</td>\n",
       "      <td>0</td>\n",
       "      <td>0</td>\n",
       "    </tr>\n",
       "    <tr>\n",
       "      <th>3610</th>\n",
       "      <td>-0.720933</td>\n",
       "      <td>1.620574</td>\n",
       "      <td>0.879129</td>\n",
       "      <td>-0.914708</td>\n",
       "      <td>1</td>\n",
       "      <td>0</td>\n",
       "      <td>0.113236</td>\n",
       "      <td>0</td>\n",
       "      <td>0</td>\n",
       "      <td>0</td>\n",
       "    </tr>\n",
       "  </tbody>\n",
       "</table>\n",
       "</div>"
      ],
      "text/plain": [
       "      CreditScore       Age   Balance  NumOfProducts  HasCrCard  \\\n",
       "2837    -1.040434  0.953312  0.774657      -0.914708          0   \n",
       "9925     0.454006 -0.095244  1.910540      -0.914708          1   \n",
       "8746     0.103585 -0.476537  0.481608       0.820981          0   \n",
       "660     -0.184996  0.190726  0.088439      -0.914708          1   \n",
       "3610    -0.720933  1.620574  0.879129      -0.914708          1   \n",
       "\n",
       "      IsActiveMember  EstimatedSalary  Geography_Germany  Geography_Spain  \\\n",
       "2837               1        -0.119110                  1                0   \n",
       "9925               1        -0.258658                  0                0   \n",
       "8746               1         1.422836                  0                0   \n",
       "660                1        -1.160427                  1                0   \n",
       "3610               0         0.113236                  0                0   \n",
       "\n",
       "      Gender_Male  \n",
       "2837            0  \n",
       "9925            0  \n",
       "8746            1  \n",
       "660             0  \n",
       "3610            0  "
      ]
     },
     "execution_count": 17,
     "metadata": {},
     "output_type": "execute_result"
    }
   ],
   "source": [
    "# check the results\n",
    "features_train.head()"
   ]
  },
  {
   "cell_type": "code",
   "execution_count": 18,
   "id": "d193e946",
   "metadata": {},
   "outputs": [
    {
     "data": {
      "text/html": [
       "<div>\n",
       "<style scoped>\n",
       "    .dataframe tbody tr th:only-of-type {\n",
       "        vertical-align: middle;\n",
       "    }\n",
       "\n",
       "    .dataframe tbody tr th {\n",
       "        vertical-align: top;\n",
       "    }\n",
       "\n",
       "    .dataframe thead th {\n",
       "        text-align: right;\n",
       "    }\n",
       "</style>\n",
       "<table border=\"1\" class=\"dataframe\">\n",
       "  <thead>\n",
       "    <tr style=\"text-align: right;\">\n",
       "      <th></th>\n",
       "      <th>CreditScore</th>\n",
       "      <th>Age</th>\n",
       "      <th>Balance</th>\n",
       "      <th>NumOfProducts</th>\n",
       "      <th>HasCrCard</th>\n",
       "      <th>IsActiveMember</th>\n",
       "      <th>EstimatedSalary</th>\n",
       "      <th>Geography_Germany</th>\n",
       "      <th>Geography_Spain</th>\n",
       "      <th>Gender_Male</th>\n",
       "    </tr>\n",
       "  </thead>\n",
       "  <tbody>\n",
       "    <tr>\n",
       "      <th>2837</th>\n",
       "      <td>-1.040434</td>\n",
       "      <td>0.953312</td>\n",
       "      <td>0.774657</td>\n",
       "      <td>-0.914708</td>\n",
       "      <td>0</td>\n",
       "      <td>1</td>\n",
       "      <td>-0.119110</td>\n",
       "      <td>1</td>\n",
       "      <td>0</td>\n",
       "      <td>0</td>\n",
       "    </tr>\n",
       "    <tr>\n",
       "      <th>9925</th>\n",
       "      <td>0.454006</td>\n",
       "      <td>-0.095244</td>\n",
       "      <td>1.910540</td>\n",
       "      <td>-0.914708</td>\n",
       "      <td>1</td>\n",
       "      <td>1</td>\n",
       "      <td>-0.258658</td>\n",
       "      <td>0</td>\n",
       "      <td>0</td>\n",
       "      <td>0</td>\n",
       "    </tr>\n",
       "    <tr>\n",
       "      <th>8746</th>\n",
       "      <td>0.103585</td>\n",
       "      <td>-0.476537</td>\n",
       "      <td>0.481608</td>\n",
       "      <td>0.820981</td>\n",
       "      <td>0</td>\n",
       "      <td>1</td>\n",
       "      <td>1.422836</td>\n",
       "      <td>0</td>\n",
       "      <td>0</td>\n",
       "      <td>1</td>\n",
       "    </tr>\n",
       "    <tr>\n",
       "      <th>660</th>\n",
       "      <td>-0.184996</td>\n",
       "      <td>0.190726</td>\n",
       "      <td>0.088439</td>\n",
       "      <td>-0.914708</td>\n",
       "      <td>1</td>\n",
       "      <td>1</td>\n",
       "      <td>-1.160427</td>\n",
       "      <td>1</td>\n",
       "      <td>0</td>\n",
       "      <td>0</td>\n",
       "    </tr>\n",
       "    <tr>\n",
       "      <th>3610</th>\n",
       "      <td>-0.720933</td>\n",
       "      <td>1.620574</td>\n",
       "      <td>0.879129</td>\n",
       "      <td>-0.914708</td>\n",
       "      <td>1</td>\n",
       "      <td>0</td>\n",
       "      <td>0.113236</td>\n",
       "      <td>0</td>\n",
       "      <td>0</td>\n",
       "      <td>0</td>\n",
       "    </tr>\n",
       "  </tbody>\n",
       "</table>\n",
       "</div>"
      ],
      "text/plain": [
       "      CreditScore       Age   Balance  NumOfProducts  HasCrCard  \\\n",
       "2837    -1.040434  0.953312  0.774657      -0.914708          0   \n",
       "9925     0.454006 -0.095244  1.910540      -0.914708          1   \n",
       "8746     0.103585 -0.476537  0.481608       0.820981          0   \n",
       "660     -0.184996  0.190726  0.088439      -0.914708          1   \n",
       "3610    -0.720933  1.620574  0.879129      -0.914708          1   \n",
       "\n",
       "      IsActiveMember  EstimatedSalary  Geography_Germany  Geography_Spain  \\\n",
       "2837               1        -0.119110                  1                0   \n",
       "9925               1        -0.258658                  0                0   \n",
       "8746               1         1.422836                  0                0   \n",
       "660                1        -1.160427                  1                0   \n",
       "3610               0         0.113236                  0                0   \n",
       "\n",
       "      Gender_Male  \n",
       "2837            0  \n",
       "9925            0  \n",
       "8746            1  \n",
       "660             0  \n",
       "3610            0  "
      ]
     },
     "execution_count": 18,
     "metadata": {},
     "output_type": "execute_result"
    }
   ],
   "source": [
    "features_train.head()"
   ]
  },
  {
   "cell_type": "code",
   "execution_count": 19,
   "id": "005dd39c",
   "metadata": {},
   "outputs": [
    {
     "data": {
      "text/html": [
       "<div>\n",
       "<style scoped>\n",
       "    .dataframe tbody tr th:only-of-type {\n",
       "        vertical-align: middle;\n",
       "    }\n",
       "\n",
       "    .dataframe tbody tr th {\n",
       "        vertical-align: top;\n",
       "    }\n",
       "\n",
       "    .dataframe thead th {\n",
       "        text-align: right;\n",
       "    }\n",
       "</style>\n",
       "<table border=\"1\" class=\"dataframe\">\n",
       "  <thead>\n",
       "    <tr style=\"text-align: right;\">\n",
       "      <th></th>\n",
       "      <th>CreditScore</th>\n",
       "      <th>Age</th>\n",
       "      <th>Balance</th>\n",
       "      <th>NumOfProducts</th>\n",
       "      <th>HasCrCard</th>\n",
       "      <th>IsActiveMember</th>\n",
       "      <th>EstimatedSalary</th>\n",
       "      <th>Geography_Germany</th>\n",
       "      <th>Geography_Spain</th>\n",
       "      <th>Gender_Male</th>\n",
       "    </tr>\n",
       "  </thead>\n",
       "  <tbody>\n",
       "    <tr>\n",
       "      <th>657</th>\n",
       "      <td>-0.504497</td>\n",
       "      <td>1.429928</td>\n",
       "      <td>0.873883</td>\n",
       "      <td>0.820981</td>\n",
       "      <td>1</td>\n",
       "      <td>1</td>\n",
       "      <td>1.725255</td>\n",
       "      <td>1</td>\n",
       "      <td>0</td>\n",
       "      <td>0</td>\n",
       "    </tr>\n",
       "    <tr>\n",
       "      <th>2083</th>\n",
       "      <td>-1.195031</td>\n",
       "      <td>-1.429769</td>\n",
       "      <td>-1.219673</td>\n",
       "      <td>-0.914708</td>\n",
       "      <td>1</td>\n",
       "      <td>1</td>\n",
       "      <td>1.203665</td>\n",
       "      <td>0</td>\n",
       "      <td>0</td>\n",
       "      <td>1</td>\n",
       "    </tr>\n",
       "    <tr>\n",
       "      <th>3234</th>\n",
       "      <td>-1.267176</td>\n",
       "      <td>0.762665</td>\n",
       "      <td>-1.219673</td>\n",
       "      <td>-0.914708</td>\n",
       "      <td>1</td>\n",
       "      <td>0</td>\n",
       "      <td>-1.374743</td>\n",
       "      <td>0</td>\n",
       "      <td>0</td>\n",
       "      <td>1</td>\n",
       "    </tr>\n",
       "    <tr>\n",
       "      <th>1551</th>\n",
       "      <td>0.825039</td>\n",
       "      <td>1.239281</td>\n",
       "      <td>-1.219673</td>\n",
       "      <td>0.820981</td>\n",
       "      <td>0</td>\n",
       "      <td>1</td>\n",
       "      <td>0.382306</td>\n",
       "      <td>0</td>\n",
       "      <td>1</td>\n",
       "      <td>0</td>\n",
       "    </tr>\n",
       "    <tr>\n",
       "      <th>2344</th>\n",
       "      <td>0.660135</td>\n",
       "      <td>0.953312</td>\n",
       "      <td>0.267087</td>\n",
       "      <td>-0.914708</td>\n",
       "      <td>1</td>\n",
       "      <td>0</td>\n",
       "      <td>-1.613578</td>\n",
       "      <td>1</td>\n",
       "      <td>0</td>\n",
       "      <td>0</td>\n",
       "    </tr>\n",
       "  </tbody>\n",
       "</table>\n",
       "</div>"
      ],
      "text/plain": [
       "      CreditScore       Age   Balance  NumOfProducts  HasCrCard  \\\n",
       "657     -0.504497  1.429928  0.873883       0.820981          1   \n",
       "2083    -1.195031 -1.429769 -1.219673      -0.914708          1   \n",
       "3234    -1.267176  0.762665 -1.219673      -0.914708          1   \n",
       "1551     0.825039  1.239281 -1.219673       0.820981          0   \n",
       "2344     0.660135  0.953312  0.267087      -0.914708          1   \n",
       "\n",
       "      IsActiveMember  EstimatedSalary  Geography_Germany  Geography_Spain  \\\n",
       "657                1         1.725255                  1                0   \n",
       "2083               1         1.203665                  0                0   \n",
       "3234               0        -1.374743                  0                0   \n",
       "1551               1         0.382306                  0                1   \n",
       "2344               0        -1.613578                  1                0   \n",
       "\n",
       "      Gender_Male  \n",
       "657             0  \n",
       "2083            1  \n",
       "3234            1  \n",
       "1551            0  \n",
       "2344            0  "
      ]
     },
     "execution_count": 19,
     "metadata": {},
     "output_type": "execute_result"
    }
   ],
   "source": [
    "features_test.head()"
   ]
  },
  {
   "cell_type": "markdown",
   "id": "ed72b097",
   "metadata": {},
   "source": [
    "## Summmary of data preparation\n",
    "\n",
    "* Column Tenure deleted due to Null values (9%) and no correlation with target variable\n",
    "* Non-relevant features deleted - RowNumber, CustomerId, Surname\n",
    "* Categorical variables (Geography, Gender) transformed into numerical with One Hot Encoding\n",
    "* Class imbalance in target variable identified\n",
    "* Dataset split into training (60%), validation (20%) and testing (20%) data taking into account the class imbalance\n",
    "* Numeric variables normalized with StandardScaler"
   ]
  },
  {
   "cell_type": "markdown",
   "id": "b55fa44c",
   "metadata": {},
   "source": [
    "# 2. Model training and selection"
   ]
  },
  {
   "cell_type": "markdown",
   "id": "fcaaf397",
   "metadata": {},
   "source": [
    "We will train 3 models: DecisionTree, RandomForest and LogisticRegression with standard hyperparameters. \n",
    "For each model, we'll calculate F1-score, AUC-ROC and build ROC-curve."
   ]
  },
  {
   "cell_type": "markdown",
   "id": "140fa5c3",
   "metadata": {},
   "source": [
    "Creating a function that calculates AUC-ROC and builds ROC-curve plot:"
   ]
  },
  {
   "cell_type": "code",
   "execution_count": 51,
   "id": "c99e37ab",
   "metadata": {},
   "outputs": [],
   "source": [
    "\n",
    "def graphic_roc_curve(model, features, target):\n",
    "    # calculating probabilities of class \"1\"\n",
    "    probabilities = model.predict_proba(features)\n",
    "    probabilities_one = probabilities [:, 1]\n",
    "    \n",
    "    # save data to build the plot\n",
    "    fpr, tpr, thresholds = roc_curve(target, probabilities_one)\n",
    "  \n",
    "    # creating ROC-curve according to the model\n",
    "    plt.figure()\n",
    "    plt.plot(fpr, tpr, label='ROC Curve')\n",
    "    \n",
    "    # ROC-curve of random model\n",
    "    plt.plot([0, 1], [0, 1], linestyle='--', label='Random')\n",
    "   \n",
    "    # set axes limits between 0 and 1\n",
    "    plt.xlim([0.0, 1.0])\n",
    "    plt.ylim([0.0, 1.0])\n",
    "    \n",
    "    # naming the axes\n",
    "    plt.xlabel('False Positive Rate')\n",
    "    plt.ylabel('True Positive Rate')\n",
    "    \n",
    "    # plot title\n",
    "    plt.title('ROC-curve')\n",
    "    \n",
    "    plt.legend()\n",
    "    plt.show()\n",
    "    \n",
    "    \n",
    "    # calculating ROC-AUC value\n",
    "    print('ROC-AUC = ', roc_auc_score(target, probabilities_one))"
   ]
  },
  {
   "cell_type": "markdown",
   "id": "0a77e41b",
   "metadata": {},
   "source": [
    "## Logistic Regression"
   ]
  },
  {
   "cell_type": "code",
   "execution_count": 52,
   "id": "bb4c25bd",
   "metadata": {},
   "outputs": [
    {
     "data": {
      "image/png": "[encoded data removed]",
      "text/plain": [
       "<Figure size 432x288 with 1 Axes>"
      ]
     },
     "metadata": {
      "needs_background": "light"
     },
     "output_type": "display_data"
    },
    {
     "name": "stdout",
     "output_type": "stream",
     "text": [
      "ROC-AUC =  0.7873235663612179\n",
      "F1-score = 0.3169398907103825\n"
     ]
    }
   ],
   "source": [
    "model = LogisticRegression(random_state=12345)\n",
    "model.fit(features_train, target_train)\n",
    "predictions_valid = model.predict(features_valid)\n",
    "\n",
    "# расчет AUC-ROC и построение ROC-кривой\n",
    "graphic_roc_curve(model, features_valid, target_valid)\n",
    "\n",
    "# calculating F1\n",
    "print('F1-score =', f1_score(target_valid, predictions_valid))\n"
   ]
  },
  {
   "cell_type": "markdown",
   "id": "521d580d",
   "metadata": {},
   "source": [
    "## Decision Tree"
   ]
  },
  {
   "cell_type": "code",
   "execution_count": 22,
   "id": "a672f7d6",
   "metadata": {},
   "outputs": [
    {
     "data": {
      "image/png": "[encoded data removed]",
      "text/plain": [
       "<Figure size 432x288 with 1 Axes>"
      ]
     },
     "metadata": {
      "needs_background": "light"
     },
     "output_type": "display_data"
    },
    {
     "name": "stdout",
     "output_type": "stream",
     "text": [
      "ROC-AUC =  0.6984986205537491\n",
      "F1-мера = 0.5187878787878788\n"
     ]
    }
   ],
   "source": [
    "model = DecisionTreeClassifier(random_state=12345)\n",
    "model.fit(features_train, target_train)\n",
    "predictions_valid = model.predict(features_valid)\n",
    "\n",
    "# расчет AUC-ROC и построение ROC-кривой\n",
    "graphic_roc_curve(model, features_valid, target_valid)\n",
    "\n",
    "# расчет F1\n",
    "print('F1-мера =', f1_score(target_valid, predictions_valid))"
   ]
  },
  {
   "cell_type": "markdown",
   "id": "2eaee727",
   "metadata": {},
   "source": [
    "## Random Forest"
   ]
  },
  {
   "cell_type": "code",
   "execution_count": 23,
   "id": "270e1807",
   "metadata": {},
   "outputs": [
    {
     "data": {
      "image/png": "[encoded data removed]",
      "text/plain": [
       "<Figure size 432x288 with 1 Axes>"
      ]
     },
     "metadata": {
      "needs_background": "light"
     },
     "output_type": "display_data"
    },
    {
     "name": "stdout",
     "output_type": "stream",
     "text": [
      "ROC-AUC =  0.8601086006010444\n",
      "F1-мера = 0.60932944606414\n"
     ]
    }
   ],
   "source": [
    "model = RandomForestClassifier(random_state=12345)\n",
    "model.fit(features_train, target_train)\n",
    "predictions_valid = model.predict(features_valid)\n",
    "\n",
    "# расчет AUC-ROC и построение ROC-кривой\n",
    "graphic_roc_curve(model, features_valid, target_valid)\n",
    "\n",
    "# расчет F1\n",
    "print('F1-мера =', f1_score(target_valid, predictions_valid))"
   ]
  },
  {
   "cell_type": "markdown",
   "id": "6d9efcd3",
   "metadata": {},
   "source": [
    "#### Conclusions\n",
    "\n",
    "Out of 3 models, RandomForest demostrated best metrics results: ROC-AUC = 0.86, F1= 0.61.\n",
    "However, we need to perform hyperparameter tuning on RandomForest to try further improve the model"
   ]
  },
  {
   "cell_type": "code",
   "execution_count": null,
   "id": "66dbb843",
   "metadata": {},
   "outputs": [],
   "source": []
  },
  {
   "cell_type": "markdown",
   "id": "27f412c0",
   "metadata": {},
   "source": [
    "## Hyperparameters Tuning"
   ]
  },
  {
   "cell_type": "markdown",
   "id": "de409b1a",
   "metadata": {},
   "source": [
    "We will try to find best hyperparameters for this model using for in loop, focusing on:\n",
    "- n_estimators - the number of \"trees\" in the \"forest\"\n",
    "- max_depth - maximum depth of 1 tree\n",
    "\n",
    "We will print the best model and its F1 score"
   ]
  },
  {
   "cell_type": "code",
   "execution_count": 24,
   "id": "981043e4",
   "metadata": {},
   "outputs": [
    {
     "name": "stdout",
     "output_type": "stream",
     "text": [
      "Best model: RandomForestClassifier(max_depth=13, n_estimators=60, n_jobs=-1,\n",
      "                       random_state=12345)\n",
      "F1-score of the best model for validation sample: 0.6275659824046922\n",
      "CPU times: total: 6.44 s\n",
      "Wall time: 23.1 s\n"
     ]
    }
   ],
   "source": [
    "%%time\n",
    "\n",
    "best_model = None\n",
    "best_result = 0\n",
    "best_est = 0\n",
    "best_depth = 0\n",
    "for est in range(10, 151, 10): # перебираем количество деревьев от 10 до 150 с шагом 10\n",
    "    for depth in range (1, 21, 2): # перебираем глубину деревьев от 1 до 20 с шагом 2\n",
    "        model = RandomForestClassifier(random_state=12345, n_estimators=est, max_depth=depth, n_jobs=-1) # создаем модель\n",
    "        model.fit(features_train, target_train) # обучаем модель на тренировочной выборке\n",
    "        predictions_valid = model.predict(features_valid) # предсказываем результат на валидационной выборке\n",
    "        f1_result = f1_score(target_valid, predictions_valid) # считаем F1-меру на валидационной выборке\n",
    "        if f1_result > best_result:\n",
    "            best_model = model # сохраняем наилучшую модель\n",
    "            best_result = f1_result #  сохранияем наилучшее значение F1-меры на валидационных данных\n",
    "            best_est = est # сохраняем наилучшее значение гиперпараметра n_estimators\n",
    "            best_depth = depth # сохраняем наилучшее значение гиперпараметра max_depth\n",
    "            \n",
    "print('Best model:', best_model)\n",
    "print('F1-score of the best model for validation sample:', best_result)"
   ]
  },
  {
   "cell_type": "markdown",
   "id": "38dc6b59",
   "metadata": {},
   "source": [
    "Now we will save this model as \"best_model\" and calculate ROC-AUC and build the curve "
   ]
  },
  {
   "cell_type": "code",
   "execution_count": 25,
   "id": "e4a21835",
   "metadata": {},
   "outputs": [
    {
     "data": {
      "image/png": "[encoded data removed]",
      "text/plain": [
       "<Figure size 432x288 with 1 Axes>"
      ]
     },
     "metadata": {
      "needs_background": "light"
     },
     "output_type": "display_data"
    },
    {
     "name": "stdout",
     "output_type": "stream",
     "text": [
      "ROC-AUC =  0.8613379396984925\n"
     ]
    }
   ],
   "source": [
    "best_model = RandomForestClassifier(random_state=12345, n_estimators=60, max_depth=13, n_jobs=-1)\n",
    "best_model.fit(features_train, target_train)\n",
    "predictions_valid = best_model.predict(features_valid)\n",
    "graphic_roc_curve(best_model, features_valid, target_valid)"
   ]
  },
  {
   "cell_type": "markdown",
   "id": "81c24d7b",
   "metadata": {},
   "source": [
    "Hyperparameters tuning helped us to improve F1-score. With hyperparameters set as max_depth=13, n_estimators=60, n_jobs=-1, random_state=12345 RandomForest F1=0.63 (vs 0.61) and ROC-AUC = 0.86 (the increase is not visible after the rounding)"
   ]
  },
  {
   "cell_type": "markdown",
   "id": "47d49c1e",
   "metadata": {},
   "source": [
    "# Dealing with class imbalance\n",
    "\n",
    "To deal with class imbalance we will use 3 methods and choose the best one:\n",
    "- reduce the selection\n",
    "- increase the selection\n",
    "- changing the threashold"
   ]
  },
  {
   "cell_type": "markdown",
   "id": "98e23824",
   "metadata": {},
   "source": [
    "## Upsampling\n",
    "\n",
    "We will increase the selection using upsampling which includes the following steps:\n",
    "- divide the training sample into negative and positive\n",
    "- create several copy of the positives\n",
    "- create a training sample with that data\n",
    "- shuffle the data"
   ]
  },
  {
   "cell_type": "code",
   "execution_count": 27,
   "id": "939ac051",
   "metadata": {},
   "outputs": [
    {
     "name": "stdout",
     "output_type": "stream",
     "text": [
      "(9666, 10)\n",
      "(9666,)\n"
     ]
    }
   ],
   "source": [
    "# lets create a function that receives features, target and a number of repeated positive objects as an input:\n",
    "\n",
    "def upsample(features, target, repeat):\n",
    "    # diving the sample into positives and negatives\n",
    "    features_zeros = features[target == 0]\n",
    "    features_ones = features[target == 1]\n",
    "    target_zeros = target[target == 0]\n",
    "    target_ones = target[target == 1]\n",
    "    \n",
    "    # multiplying the positives and adding them to the negative objects\n",
    "    features_upsampled = pd.concat([features_zeros] + [features_ones] * repeat)\n",
    "    target_upsampled = pd.concat([target_zeros] + [target_ones] * repeat)\n",
    "    \n",
    "    # shuffling the data\n",
    "    features_upsampled, target_upsampled = shuffle(features_upsampled, target_upsampled, random_state=12345)\n",
    "    \n",
    "    return features_upsampled, target_upsampled \n",
    "\n",
    "# using the function on training data\n",
    "features_upsampled, target_upsampled = upsample(features_train, target_train, 4)\n",
    "\n",
    "# check the size of the tranformed training dataset\n",
    "print(features_upsampled.shape)\n",
    "print(target_upsampled.shape)"
   ]
  },
  {
   "cell_type": "code",
   "execution_count": 28,
   "id": "c416bc3b",
   "metadata": {},
   "outputs": [
    {
     "data": {
      "text/plain": [
       "1    4888\n",
       "0    4778\n",
       "Name: Exited, dtype: int64"
      ]
     },
     "execution_count": 28,
     "metadata": {},
     "output_type": "execute_result"
    }
   ],
   "source": [
    "# checking the number of positive and negative objects in the tranformed target:\n",
    "target_upsampled.value_counts()"
   ]
  },
  {
   "cell_type": "markdown",
   "id": "78e9c841",
   "metadata": {},
   "source": [
    "Now the number of positive and negative objects is balanced. However, we need to tune hyperparameters again on this new training dataset"
   ]
  },
  {
   "cell_type": "code",
   "execution_count": 29,
   "id": "38b8151a",
   "metadata": {},
   "outputs": [
    {
     "name": "stdout",
     "output_type": "stream",
     "text": [
      "Best model: RandomForestClassifier(max_depth=9, n_estimators=40, n_jobs=-1,\n",
      "                       random_state=12345)\n",
      "F1-score of the best model in the validation selection: 0.6470588235294118\n",
      "CPU times: total: 10.3 s\n",
      "Wall time: 27.2 s\n"
     ]
    }
   ],
   "source": [
    "%%time\n",
    "\n",
    "best_model = None\n",
    "best_result = 0\n",
    "best_est = 0\n",
    "best_depth = 0\n",
    "for est in range(10, 151, 10): # trying the model with tree number between 10 and 151 with the step size of 10\n",
    "    for depth in range (1, 21, 2): # trying tree depth between 1 and 20, with step size 2\n",
    "        model = RandomForestClassifier(random_state=12345, n_estimators=est, max_depth=depth, n_jobs=-1) # creating the model\n",
    "        model.fit(features_upsampled, target_upsampled) # training the model with upsampled dataset\n",
    "        predictions_valid = model.predict(features_valid) # predicting using the validation dataset\n",
    "        f1_result = f1_score(target_valid, predictions_valid) # calculating the F1-measure on validation dataset\n",
    "        if f1_result > best_result:\n",
    "            best_model = model # saving the best model\n",
    "            best_result = f1_result #  saving the best F1-score\n",
    "            best_est = est # saving the best value of hyperparameter n_estimators\n",
    "            best_depth = depth # сsaving the best value of hyperparameter max_depth\n",
    "            \n",
    "print('Best model:', best_model)\n",
    "print('F1-score of the best model in the validation selection:', best_result)"
   ]
  },
  {
   "cell_type": "markdown",
   "id": "d853754b",
   "metadata": {},
   "source": [
    "F1-score increased to 0.63. We will save this model as model_upsampled"
   ]
  },
  {
   "cell_type": "code",
   "execution_count": 30,
   "id": "b9890003",
   "metadata": {},
   "outputs": [
    {
     "name": "stdout",
     "output_type": "stream",
     "text": [
      "F1: 0.6470588235294118\n"
     ]
    }
   ],
   "source": [
    "model_upsampled = RandomForestClassifier(max_depth=9, n_estimators=40, n_jobs=-1, random_state=12345)\n",
    "model_upsampled.fit(features_upsampled, target_upsampled)\n",
    "predicted_valid = model_upsampled.predict(features_valid)\n",
    "\n",
    "print(\"F1:\", f1_score(target_valid, predicted_valid))"
   ]
  },
  {
   "cell_type": "code",
   "execution_count": 31,
   "id": "89c710e4",
   "metadata": {},
   "outputs": [
    {
     "data": {
      "image/png": "[encoded data removed]",
      "text/plain": [
       "<Figure size 432x288 with 1 Axes>"
      ]
     },
     "metadata": {
      "needs_background": "light"
     },
     "output_type": "display_data"
    },
    {
     "name": "stdout",
     "output_type": "stream",
     "text": [
      "ROC-AUC =  0.873392698788058\n"
     ]
    }
   ],
   "source": [
    "graphic_roc_curve(model_upsampled, features_valid, target_valid)"
   ]
  },
  {
   "cell_type": "markdown",
   "id": "29718e5e",
   "metadata": {},
   "source": [
    "## Downsampling\n",
    "\n",
    "- we will divide the dataframe into negative and positive objects\n",
    "- randomly discard a part of negative objects\n",
    "- create a training selection with this data\n",
    "- shuffle the obtained dataset"
   ]
  },
  {
   "cell_type": "code",
   "execution_count": 32,
   "id": "08401762",
   "metadata": {},
   "outputs": [
    {
     "name": "stdout",
     "output_type": "stream",
     "text": [
      "(2464, 10)\n",
      "(2464,)\n"
     ]
    }
   ],
   "source": [
    "# creating a function that receives feature, target and the proportion of negative objects that need to be discarded\n",
    "def downsample(features, target, fraction):\n",
    "    # dividing the selection into positive and negative\n",
    "    features_zeros = features[target == 0]\n",
    "    features_ones = features[target == 1]\n",
    "    target_zeros = target[target == 0]\n",
    "    target_ones = target[target == 1]\n",
    "    \n",
    "    # reducing the share of negatives and uniting them with the positives\n",
    "    features_downsampled = pd.concat([features_zeros.sample(frac=fraction, random_state=12345)] + [features_ones])\n",
    "    target_downsampled = pd.concat([target_zeros.sample(frac=fraction, random_state=12345)] + [target_ones])\n",
    "\n",
    "    # shuffling the data\n",
    "    features_downsampled, target_downsampled = shuffle(features_downsampled, target_downsampled, random_state=12345)\n",
    "    \n",
    "    return features_downsampled, target_downsampled\n",
    "\n",
    "# call the function for the training dataset\n",
    "features_downsampled, target_downsampled = downsample(features_train, target_train, 0.26)\n",
    "\n",
    "# checking the size of the downsampled dataset\n",
    "print(features_downsampled.shape)\n",
    "print(target_downsampled.shape)"
   ]
  },
  {
   "cell_type": "code",
   "execution_count": 33,
   "id": "bfeb1c00",
   "metadata": {},
   "outputs": [
    {
     "data": {
      "text/plain": [
       "0    1242\n",
       "1    1222\n",
       "Name: Exited, dtype: int64"
      ]
     },
     "execution_count": 33,
     "metadata": {},
     "output_type": "execute_result"
    }
   ],
   "source": [
    "#checking for class disbalance in target variable\n",
    "target_downsampled.value_counts()"
   ]
  },
  {
   "cell_type": "markdown",
   "id": "cb64e3fb",
   "metadata": {},
   "source": [
    "Now the class imbalance is corrected; we need to find best values for hyperparameters using the downsampled dataset"
   ]
  },
  {
   "cell_type": "code",
   "execution_count": 34,
   "id": "739894e7",
   "metadata": {},
   "outputs": [
    {
     "name": "stdout",
     "output_type": "stream",
     "text": [
      "Best model: RandomForestClassifier(max_depth=7, n_estimators=130, n_jobs=-1,\n",
      "                       random_state=12345)\n",
      "F1-score of the best model: 0.6373411534701857\n",
      "CPU times: total: 4.31 s\n",
      "Wall time: 19.4 s\n"
     ]
    }
   ],
   "source": [
    "%%time\n",
    "\n",
    "best_model = None\n",
    "best_result = 0\n",
    "best_est = 0\n",
    "best_depth = 0\n",
    "for est in range(10, 151, 10):  # trying the model with tree number between 10 and 151 with the step size of 10\n",
    "    for depth in range (1, 21, 2): # trying tree depth between 1 and 20, with step size 2\n",
    "        model = RandomForestClassifier(random_state=12345, n_estimators=est, max_depth=depth, n_jobs=-1) # creating the model\n",
    "        model.fit(features_downsampled, target_downsampled) # training the model\n",
    "        predictions_valid = model.predict(features_valid) # predicting using validation dataset\n",
    "        f1_result = f1_score(target_valid, predictions_valid) # calculating F1 scores\n",
    "        if f1_result > best_result:\n",
    "            best_model = model # saving the best model\n",
    "            best_result = f1_result #  saving the best F1-score\n",
    "            best_est = est # saving the best value of n_estimators\n",
    "            best_depth = depth # saving the best value of max_depth\n",
    "            \n",
    "print('Best model:', best_model)\n",
    "print('F1-score of the best model:', best_result)"
   ]
  },
  {
   "cell_type": "markdown",
   "id": "5c7e001c",
   "metadata": {},
   "source": [
    "Now we will train the model with the best hyperparameters on downsampled dataset and calculate the values of the metrics"
   ]
  },
  {
   "cell_type": "code",
   "execution_count": 35,
   "id": "a9e392ee",
   "metadata": {},
   "outputs": [
    {
     "name": "stdout",
     "output_type": "stream",
     "text": [
      "F1: 0.6373411534701857\n"
     ]
    }
   ],
   "source": [
    "model_downsampled = RandomForestClassifier(max_depth=7, n_estimators=130, n_jobs=-1, random_state=12345)\n",
    "model_downsampled.fit(features_downsampled, target_downsampled)\n",
    "predicted_valid = model_downsampled.predict(features_valid)\n",
    "\n",
    "print(\"F1:\", f1_score(target_valid, predicted_valid))"
   ]
  },
  {
   "cell_type": "code",
   "execution_count": 36,
   "id": "18e2dcc6",
   "metadata": {},
   "outputs": [
    {
     "data": {
      "image/png": "[encoded data removed]",
      "text/plain": [
       "<Figure size 432x288 with 1 Axes>"
      ]
     },
     "metadata": {
      "needs_background": "light"
     },
     "output_type": "display_data"
    },
    {
     "name": "stdout",
     "output_type": "stream",
     "text": [
      "ROC-AUC =  0.8674222829835451\n"
     ]
    }
   ],
   "source": [
    "# calculating ROC-AUC and building the curve\n",
    "graphic_roc_curve(model_downsampled, features_valid, target_valid)"
   ]
  },
  {
   "cell_type": "markdown",
   "id": "18067d94",
   "metadata": {},
   "source": [
    "### Conclusions:\n",
    "- Downsampling gave us a better result than the one before addressing the imbalance; however, the upsampling method did it a bit better"
   ]
  },
  {
   "cell_type": "markdown",
   "id": "a07d0ca7",
   "metadata": {},
   "source": [
    "## Changing the classification threshold"
   ]
  },
  {
   "cell_type": "markdown",
   "id": "f10baaef",
   "metadata": {},
   "source": [
    "We will create a loop that will test threashold between 0 and 0.7 with step size 0.2 and compare F1-scores of each threashold value:"
   ]
  },
  {
   "cell_type": "code",
   "execution_count": 37,
   "id": "654a0d47",
   "metadata": {},
   "outputs": [
    {
     "name": "stdout",
     "output_type": "stream",
     "text": [
      "Threashold = 0.00 | F1 = 0.3389\n",
      "Threashold = 0.02 | F1 = 0.3389\n",
      "Threashold = 0.04 | F1 = 0.3577\n",
      "Threashold = 0.06 | F1 = 0.3927\n",
      "Threashold = 0.08 | F1 = 0.4213\n",
      "Threashold = 0.10 | F1 = 0.4553\n",
      "Threashold = 0.12 | F1 = 0.4843\n",
      "Threashold = 0.14 | F1 = 0.5369\n",
      "Threashold = 0.16 | F1 = 0.5867\n",
      "Threashold = 0.18 | F1 = 0.6090\n",
      "Threashold = 0.20 | F1 = 0.6282\n",
      "Threashold = 0.22 | F1 = 0.6321\n",
      "Threashold = 0.24 | F1 = 0.6424\n",
      "Threashold = 0.26 | F1 = 0.6483\n",
      "Threashold = 0.28 | F1 = 0.6404\n",
      "Threashold = 0.30 | F1 = 0.6476\n",
      "Threashold = 0.32 | F1 = 0.6407\n",
      "Threashold = 0.34 | F1 = 0.6319\n",
      "Threashold = 0.36 | F1 = 0.6319\n",
      "Threashold = 0.38 | F1 = 0.6240\n",
      "Threashold = 0.40 | F1 = 0.6184\n",
      "Threashold = 0.42 | F1 = 0.6053\n",
      "Threashold = 0.44 | F1 = 0.5952\n",
      "Threashold = 0.46 | F1 = 0.5865\n",
      "Threashold = 0.48 | F1 = 0.5789\n",
      "Threashold = 0.50 | F1 = 0.5781\n",
      "Threashold = 0.52 | F1 = 0.5678\n",
      "Threashold = 0.54 | F1 = 0.5546\n",
      "Threashold = 0.56 | F1 = 0.5397\n",
      "Threashold = 0.58 | F1 = 0.5302\n",
      "Threashold = 0.60 | F1 = 0.5213\n",
      "Threashold = 0.62 | F1 = 0.5138\n",
      "Threashold = 0.64 | F1 = 0.5026\n",
      "Threashold = 0.66 | F1 = 0.4920\n",
      "Threashold = 0.68 | F1 = 0.4618\n",
      "\n",
      "Best F1 = 0.6483 | Best threashold = 0.26\n"
     ]
    }
   ],
   "source": [
    "best_model.fit(features_train, target_train) #training the model\n",
    "\n",
    "#calculating the probability of positives\n",
    "probabilities_valid = best_model.predict_proba(features_valid)\n",
    "probabilities_one_valid = probabilities_valid[:, 1]\n",
    "\n",
    "#creating variables to save F1 and threashold results\n",
    "best_f1=0\n",
    "threshold_best_f1=0\n",
    "\n",
    "# trying different threasholds\n",
    "for threshold in np.arange(0, 0.7, 0.02):\n",
    "    predicted_valid = probabilities_one_valid > threshold # comparing probability values with 0.7 threashold and saveing the results\n",
    "    f1 = f1_score(target_valid, predicted_valid) # calculating F1\n",
    "    print(f'Threashold = {threshold:.2f} | F1 = {f1:.4f}') \n",
    "    # saving best F1 and threashold\n",
    "    if f1 > best_f1:\n",
    "        best_f1 = f1\n",
    "        threshold_best_f1 = threshold\n",
    "print()\n",
    "print(f'Best F1 = {best_f1:.4f} | Best threashold = {threshold_best_f1:.2f}')"
   ]
  },
  {
   "cell_type": "markdown",
   "id": "775d2208",
   "metadata": {},
   "source": [
    "Maximum F1 (0.64) was obtained with the threashold - 0.26; Now is let's find the optimal hyperparameters for this threashold"
   ]
  },
  {
   "cell_type": "code",
   "execution_count": 38,
   "id": "6a6352fb",
   "metadata": {},
   "outputs": [
    {
     "name": "stdout",
     "output_type": "stream",
     "text": [
      "Best model: RandomForestClassifier(max_depth=9, n_estimators=40, n_jobs=-1,\n",
      "                       random_state=12345)\n",
      "F1-score of the best model: 0.6563876651982379\n",
      "CPU times: total: 9.17 s\n",
      "Wall time: 22.5 s\n"
     ]
    }
   ],
   "source": [
    "%%time\n",
    "\n",
    "threshold = 0.26\n",
    "best_model = None\n",
    "best_result = 0\n",
    "best_est = 0\n",
    "best_depth = 0\n",
    "for est in range(10, 151, 10):\n",
    "    for depth in range (1, 21, 2): \n",
    "        model = RandomForestClassifier(random_state=12345, n_estimators=est, max_depth=depth, n_jobs=-1)\n",
    "        model.fit(features_train, target_train)\n",
    "        probabilities= model.predict_proba(features_valid)\n",
    "        predicted_valid = probabilities [:,1] >= threshold\n",
    "        f1_result = f1_score(target_valid, predicted_valid) \n",
    "        if f1_result > best_result:\n",
    "            best_model = model\n",
    "            best_result = f1_result \n",
    "            best_est = est\n",
    "            best_depth = depth \n",
    "            \n",
    "print('Best model:', best_model)\n",
    "print('F1-score of the best model:', best_result)"
   ]
  },
  {
   "cell_type": "code",
   "execution_count": 41,
   "id": "144bbfcb",
   "metadata": {},
   "outputs": [
    {
     "name": "stdout",
     "output_type": "stream",
     "text": [
      "F1: 0.6563876651982379\n"
     ]
    }
   ],
   "source": [
    "threshold = 0.26\n",
    "model_threshold = RandomForestClassifier(max_depth=9, n_estimators=40, n_jobs=-1, random_state=12345)\n",
    "model_threshold.fit(features_train, target_train)\n",
    "probabilities = model_threshold.predict_proba(features_valid)\n",
    "predicted_valid = probabilities [:,1] >= threshold\n",
    "\n",
    "print(\"F1:\", f1_score(target_valid, predicted_valid))"
   ]
  },
  {
   "cell_type": "code",
   "execution_count": 40,
   "id": "8d75ec0d",
   "metadata": {},
   "outputs": [
    {
     "data": {
      "image/png": "[encoded data removed]",
      "text/plain": [
       "<Figure size 432x288 with 1 Axes>"
      ]
     },
     "metadata": {
      "needs_background": "light"
     },
     "output_type": "display_data"
    },
    {
     "name": "stdout",
     "output_type": "stream",
     "text": [
      "ROC-AUC =  0.8690803896935658\n"
     ]
    }
   ],
   "source": [
    "graphic_roc_curve(model_threshold, features_valid, target_valid)"
   ]
  },
  {
   "cell_type": "markdown",
   "id": "207bc6a3",
   "metadata": {},
   "source": [
    "### Conclusion: \n",
    "\n",
    "All three techniques improved F1 score on validation dataset. However, upsampling resulted to be the best one, so now we will continue working with RandomForest having max_depth=9, n_estimators=40, n_jobs=-1, random_state=12345"
   ]
  },
  {
   "cell_type": "markdown",
   "id": "bd406854",
   "metadata": {},
   "source": [
    "score_data = {'F1':[0.84, 0.83, 0.90], 'Accuracy':[0.75, 0.73, 0.84]}   \n",
    "score_data = pd.DataFrame(score_data, index =['Логистическая регрессия', 'Случайный лес', 'LGBM']) "
   ]
  },
  {
   "cell_type": "markdown",
   "id": "e29f1ccc",
   "metadata": {},
   "source": [
    "# Testing the model"
   ]
  },
  {
   "cell_type": "markdown",
   "id": "b36f326a",
   "metadata": {},
   "source": [
    "Now we will run the model with the chosen parameters on testing selection  and check the final metrics"
   ]
  },
  {
   "cell_type": "code",
   "execution_count": 56,
   "id": "724f9753",
   "metadata": {},
   "outputs": [
    {
     "name": "stdout",
     "output_type": "stream",
     "text": [
      "F1 = 0.6030042918454936\n",
      "Confusion Matrix = \n",
      "[[1349  244]\n",
      " [ 126  281]]\n"
     ]
    }
   ],
   "source": [
    "predicted_test = model_upsampled.predict(features_test)\n",
    "\n",
    "print(\"F1 =\", f1_score(target_test, predicted_test))\n",
    "print(\"Confusion Matrix = \")\n",
    "print(confusion_matrix(target_test, predicted_test))"
   ]
  },
  {
   "cell_type": "code",
   "execution_count": 57,
   "id": "f21bc6d5",
   "metadata": {},
   "outputs": [
    {
     "data": {
      "image/png": "[encoded data removed]",
      "text/plain": [
       "<Figure size 432x288 with 1 Axes>"
      ]
     },
     "metadata": {
      "needs_background": "light"
     },
     "output_type": "display_data"
    },
    {
     "name": "stdout",
     "output_type": "stream",
     "text": [
      "ROC-AUC =  0.8545109053583628\n"
     ]
    }
   ],
   "source": [
    "graphic_roc_curve(model_upsampled, features_test, target_test)"
   ]
  },
  {
   "cell_type": "code",
   "execution_count": null,
   "id": "4cca88c8",
   "metadata": {},
   "outputs": [],
   "source": []
  }
 ],
 "metadata": {
  "kernelspec": {
   "display_name": "Python 3 (ipykernel)",
   "language": "python",
   "name": "python3"
  },
  "language_info": {
   "codemirror_mode": {
    "name": "ipython",
    "version": 3
   },
   "file_extension": ".py",
   "mimetype": "text/x-python",
   "name": "python",
   "nbconvert_exporter": "python",
   "pygments_lexer": "ipython3",
   "version": "3.9.7"
  }
 },
 "nbformat": 4,
 "nbformat_minor": 5
}
